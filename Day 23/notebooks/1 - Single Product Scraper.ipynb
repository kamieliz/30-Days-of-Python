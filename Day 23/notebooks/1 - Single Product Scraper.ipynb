{
 "cells": [
  {
   "cell_type": "code",
   "execution_count": 1,
   "id": "71fca0b0",
   "metadata": {},
   "outputs": [],
   "source": [
    "import requests\n",
    "from requests_html import HTML\n",
    "from selenium import webdriver\n",
    "from selenium.webdriver.chrome.options import Options\n",
    "from selenium.webdriver.common.by import By"
   ]
  },
  {
   "cell_type": "code",
   "execution_count": 2,
   "id": "86abd802",
   "metadata": {},
   "outputs": [],
   "source": [
    "options = Options()\n",
    "options.add_argument(\"--headless\")\n",
    "\n",
    "driver = webdriver.Chrome(options=options)"
   ]
  },
  {
   "cell_type": "code",
   "execution_count": 3,
   "id": "33773253",
   "metadata": {},
   "outputs": [],
   "source": [
    "url = \"https://www.amazon.com/Letton-Wireless-Keyboard-Mouse-Combo-Pink/dp/B07S89T7JJ/?_encoding=UTF8&pd_rd_w=pcIKo&pf_rd_p=396c0314-c1f6-41c2-b37b-91540c07423f&pf_rd_r=B5MZ822TXKKBDB5N71PQ&pd_rd_r=bf9fa55f-341d-4468-9a54-92380613539e&pd_rd_wg=TnPYy&ref_=pd_gw_ci_mcx_mr_hp_atf_m\""
   ]
  },
  {
   "cell_type": "code",
   "execution_count": 9,
   "id": "bea3f50d",
   "metadata": {},
   "outputs": [],
   "source": [
    "title_lookup = \"#productTitle\"\n",
    "price_lookup = \"#corePrice_desktop > div > table > tbody > tr:nth-child(2) > td.a-span12 > span.a-price.a-text-price.a-size-medium.apexPriceToPay > span.a-offscreen\""
   ]
  },
  {
   "cell_type": "code",
   "execution_count": 10,
   "id": "ee252b44",
   "metadata": {},
   "outputs": [],
   "source": [
    "# requests isn't working\n",
    "# r = requests.get(url)\n",
    "# html_str = r.text\n",
    "driver.get(url)\n",
    "body_el = driver.find_element(By.CSS_SELECTOR, \"body\")\n",
    "html_str = body_el.get_attribute(\"innerHTML\")\n",
    "# print(html_str)"
   ]
  },
  {
   "cell_type": "code",
   "execution_count": 11,
   "id": "664b4a58",
   "metadata": {},
   "outputs": [],
   "source": [
    "html_obj = HTML(html=html_str)"
   ]
  },
  {
   "cell_type": "code",
   "execution_count": 12,
   "id": "766d7213",
   "metadata": {},
   "outputs": [],
   "source": [
    "product_title = html_obj.find(title_lookup, first=True).text"
   ]
  },
  {
   "cell_type": "code",
   "execution_count": 14,
   "id": "f163ffca",
   "metadata": {},
   "outputs": [],
   "source": [
    "product_price = html_obj.find(price_lookup, first=True).text"
   ]
  },
  {
   "cell_type": "code",
   "execution_count": 15,
   "id": "9b73e1f4",
   "metadata": {},
   "outputs": [
    {
     "name": "stdout",
     "output_type": "stream",
     "text": [
      "Pink Wireless Keyboard Mouse Combo, 2.4GHz Wireless Retro Typewriter Keyboard and Mouse Combo, Letton Full Size Wireless Office Computer Keyboard and Cute Mouse with 3 DPI for Mac PC Desktop Laptop $29.74\n"
     ]
    }
   ],
   "source": [
    "print(product_title, product_price)"
   ]
  },
  {
   "cell_type": "code",
   "execution_count": null,
   "id": "6eacc835",
   "metadata": {},
   "outputs": [],
   "source": []
  }
 ],
 "metadata": {
  "kernelspec": {
   "display_name": "Python 3 (ipykernel)",
   "language": "python",
   "name": "python3"
  },
  "language_info": {
   "codemirror_mode": {
    "name": "ipython",
    "version": 3
   },
   "file_extension": ".py",
   "mimetype": "text/x-python",
   "name": "python",
   "nbconvert_exporter": "python",
   "pygments_lexer": "ipython3",
   "version": "3.8.3"
  }
 },
 "nbformat": 4,
 "nbformat_minor": 5
}
