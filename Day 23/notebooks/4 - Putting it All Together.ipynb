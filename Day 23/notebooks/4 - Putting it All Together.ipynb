{
 "cells": [
  {
   "cell_type": "markdown",
   "id": "6b8f34eb",
   "metadata": {},
   "source": [
    "# Parsing URLs with Regular Expressions\n",
    "The goal of this notebook is to parse urls from Amazon's Best Sellers - Electronics list and extract product ids from them. "
   ]
  },
  {
   "cell_type": "code",
   "execution_count": 1,
   "id": "71fca0b0",
   "metadata": {},
   "outputs": [],
   "source": [
    "# importing important libraries\n",
    "import requests\n",
    "import re\n",
    "import time\n",
    "import datetime\n",
    "import pandas as pd\n",
    "\n",
    "from pathlib import Path\n",
    "from selenium import webdriver\n",
    "from selenium.webdriver.chrome.options import Options\n",
    "from selenium.webdriver.common.by import By\n",
    "from requests_html import HTML"
   ]
  },
  {
   "cell_type": "code",
   "execution_count": 2,
   "id": "fc0eff4c",
   "metadata": {},
   "outputs": [],
   "source": [
    "BASE_DIR = Path.cwd()\n",
    "DATA_DIR = BASE_DIR / \"data\"\n",
    "if not DATA_DIR.exists():\n",
    "    DATA_DIR.mkdir(exist_ok=True)\n",
    "\n",
    "product_category_links_output = DATA_DIR / \"category-products.csv\"\n",
    "product_output = DATA_DIR / \"products.csv\""
   ]
  },
  {
   "cell_type": "code",
   "execution_count": 3,
   "id": "86abd802",
   "metadata": {},
   "outputs": [],
   "source": [
    "# this allows me to run selenium without opening a new chrome window \n",
    "options = Options()\n",
    "options.add_argument(\"--headless\")\n",
    "\n",
    "driver = webdriver.Chrome(options=options)"
   ]
  },
  {
   "cell_type": "code",
   "execution_count": 4,
   "id": "9b73e1f4",
   "metadata": {},
   "outputs": [],
   "source": [
    "# three links from Amazon's best sellers page\n",
    "categories = [\n",
    "    {\"name\": \"electronics\", \"url\": \"https://www.amazon.com/Best-Sellers-Electronics/zgbs/electronics/\"},\n",
    "    {\"name\": \"home-and-decor\", \"url\": \"https://www.amazon.com/Best-Sellers-Home-Kitchen/zgbs/home-garden/\"},\n",
    "    {\"name\": \"toys-and-games\", \"url\":\"https://www.amazon.com/Best-Sellers-Toys-Games/zgbs/toys-and-games/\"}\n",
    "]"
   ]
  },
  {
   "cell_type": "code",
   "execution_count": 5,
   "id": "15524328",
   "metadata": {},
   "outputs": [],
   "source": [
    "# different ways product page links can look\n",
    "regex_options = [\n",
    "    r\"https://www.amazon.com/gp/product/(?P<product_id>[\\w-]+)/\",\n",
    "    r\"https://www.amazon.com/dp/(?P<product_id>[\\w-]+)/\",\n",
    "    r\"https://www.amazon.com/(?P<slug>[\\w-]+)/dp/(?P<product_id>[\\w-]+)/\",\n",
    "]"
   ]
  },
  {
   "cell_type": "code",
   "execution_count": 6,
   "id": "6e3fd51d",
   "metadata": {},
   "outputs": [],
   "source": [
    "# from the url i want to extract the product id\n",
    "# for future price tracking\n",
    "def extract_product_id_from_url(url):\n",
    "    product_id = None\n",
    "    for regex_str in regex_options:\n",
    "        regex = re.compile(regex_str)\n",
    "        match = regex.match(url)\n",
    "        if match != None:\n",
    "            try:\n",
    "                product_id = match['product_id']\n",
    "            except:\n",
    "                pass\n",
    "    return product_id"
   ]
  },
  {
   "cell_type": "code",
   "execution_count": 7,
   "id": "776873f5",
   "metadata": {},
   "outputs": [],
   "source": [
    "def clean_page_links(page_links=[], category=None):\n",
    "    final_page_links = []\n",
    "    for url in page_links:\n",
    "        product_id = extract_product_id_from_url(url)\n",
    "        if product_id != None:\n",
    "            final_page_links.append({\"url\": url, \"product_id\": product_id, \"category\": category})\n",
    "    return final_page_links"
   ]
  },
  {
   "cell_type": "code",
   "execution_count": 8,
   "id": "4c8966b4",
   "metadata": {},
   "outputs": [],
   "source": [
    "def scrape_category_product_links(categories=[]):\n",
    "    all_product_links = []\n",
    "    for category in categories:\n",
    "        time.sleep(1.5)\n",
    "        url = category.get(\"url\")\n",
    "        driver.get(url)\n",
    "        body_el = driver.find_element(By.CSS_SELECTOR, 'body')\n",
    "        html_str = body_el.get_attribute('innerHTML')\n",
    "        html_obj = HTML(html=html_str)\n",
    "        page_links = [f\"https://www.amazon.com{x}\" for x in html_obj.links if x.startswith(\"/\")]\n",
    "        cleaned_links = clean_page_links(page_links=page_links, category=category)\n",
    "        all_product_links += cleaned_links\n",
    "    return all_product_links"
   ]
  },
  {
   "cell_type": "code",
   "execution_count": 9,
   "id": "b0b011be",
   "metadata": {},
   "outputs": [],
   "source": [
    "def extract_categories_and_save(categories=[]):\n",
    "    all_product_links = scrape_category_product_links(categories)\n",
    "    category_df = pd.DataFrame(all_product_links)\n",
    "    category_df.to_csv(product_category_links_output, index=False)"
   ]
  },
  {
   "cell_type": "code",
   "execution_count": 10,
   "id": "1634fcf9",
   "metadata": {},
   "outputs": [],
   "source": [
    "extract_categories_and_save(categories=categories)"
   ]
  },
  {
   "cell_type": "code",
   "execution_count": 11,
   "id": "279e8c9e",
   "metadata": {},
   "outputs": [],
   "source": [
    "# pass in a link and it scrapes the page looking for the\n",
    "# product title and product proce\n",
    "def scrape_product_page(url, title_lookup = \"#productTitle\",\n",
    "price_lookup = \"#corePrice_desktop > div > table > tbody > tr:nth-child(2) > td.a-span12 > span.a-price.a-text-price.a-size-medium.apexPriceToPay > span.a-offscreen\"):\n",
    "    driver.get(url)\n",
    "    time.sleep(1.5)\n",
    "    body_el = driver.find_element(By.CSS_SELECTOR, 'body')\n",
    "    html_str = body_el.get_attribute('innerHTML')\n",
    "    html_obj = HTML(html=html_str)\n",
    "    product_title = html_obj.find(title_lookup, first=True).text\n",
    "    product_price = html_obj.find(price_lookup, first=True).text\n",
    "    return product_title, product_price"
   ]
  },
  {
   "cell_type": "code",
   "execution_count": 12,
   "id": "c8a4e2de",
   "metadata": {},
   "outputs": [],
   "source": [
    "def perform_scrape(cleaned_items=[]):\n",
    "    data_extracted = []\n",
    "    for obj in cleaned_items:\n",
    "        link = obj['url']\n",
    "        product_id = obj['product_id']\n",
    "        title, price = (None, None)\n",
    "        try:\n",
    "            title, price = scrape_product_page(link)\n",
    "        except:\n",
    "            pass\n",
    "        if title != None and price != None:\n",
    "            print(link, title, price)\n",
    "        product_data = {\n",
    "            \"url\": link,\n",
    "            \"product_id\": product_id,\n",
    "            \"title\": title,\n",
    "            \"price\": price\n",
    "        }\n",
    "        data_extracted.append(product_data)\n",
    "    return data_extracted"
   ]
  },
  {
   "cell_type": "code",
   "execution_count": 13,
   "id": "1aadb36a",
   "metadata": {},
   "outputs": [],
   "source": [
    "def row_scrape_event(row, *args, **kwargs):\n",
    "    link = row[\"url\"]\n",
    "    scraped = 0\n",
    "    try:\n",
    "        scraped = row[\"scraped\"]\n",
    "    except:\n",
    "        pass\n",
    "    if scraped == 1 or scraped == \"1\":\n",
    "        print(\"skipped\")\n",
    "        return row\n",
    "    product_id = row['product_id']\n",
    "    title, price = (None, None)\n",
    "    try:\n",
    "        title, price = scrape_product_page(link)\n",
    "    except:\n",
    "        pass\n",
    "    row['title'] = title\n",
    "    row['price'] = title\n",
    "    row['scraped'] = 1\n",
    "    row['timestamp'] = datetime.datetime.now().timestamp()\n",
    "    print(link, title, price)\n",
    "    return row"
   ]
  },
  {
   "cell_type": "code",
   "execution_count": 14,
   "id": "9dad7bd5",
   "metadata": {},
   "outputs": [
    {
     "data": {
      "text/html": [
       "<div>\n",
       "<style scoped>\n",
       "    .dataframe tbody tr th:only-of-type {\n",
       "        vertical-align: middle;\n",
       "    }\n",
       "\n",
       "    .dataframe tbody tr th {\n",
       "        vertical-align: top;\n",
       "    }\n",
       "\n",
       "    .dataframe thead th {\n",
       "        text-align: right;\n",
       "    }\n",
       "</style>\n",
       "<table border=\"1\" class=\"dataframe\">\n",
       "  <thead>\n",
       "    <tr style=\"text-align: right;\">\n",
       "      <th></th>\n",
       "      <th>url</th>\n",
       "      <th>product_id</th>\n",
       "      <th>category</th>\n",
       "    </tr>\n",
       "  </thead>\n",
       "  <tbody>\n",
       "    <tr>\n",
       "      <th>0</th>\n",
       "      <td>https://www.amazon.com/All-new-Kindle-Paperwhi...</td>\n",
       "      <td>B08KTZ8249</td>\n",
       "      <td>{'name': 'electronics', 'url': 'https://www.am...</td>\n",
       "    </tr>\n",
       "    <tr>\n",
       "      <th>1</th>\n",
       "      <td>https://www.amazon.com/Blocking-Glasses-Comput...</td>\n",
       "      <td>B07W781XWF</td>\n",
       "      <td>{'name': 'electronics', 'url': 'https://www.am...</td>\n",
       "    </tr>\n",
       "    <tr>\n",
       "      <th>2</th>\n",
       "      <td>https://www.amazon.com/all-new-Echo-Dot/dp/B07...</td>\n",
       "      <td>B07XJ8C8F5</td>\n",
       "      <td>{'name': 'electronics', 'url': 'https://www.am...</td>\n",
       "    </tr>\n",
       "    <tr>\n",
       "      <th>3</th>\n",
       "      <td>https://www.amazon.com/Tcstei-Protector-Outlet...</td>\n",
       "      <td>B08PC872RL</td>\n",
       "      <td>{'name': 'electronics', 'url': 'https://www.am...</td>\n",
       "    </tr>\n",
       "    <tr>\n",
       "      <th>4</th>\n",
       "      <td>https://www.amazon.com/fire-tv-stick-lite-late...</td>\n",
       "      <td>B091G4YP57</td>\n",
       "      <td>{'name': 'electronics', 'url': 'https://www.am...</td>\n",
       "    </tr>\n",
       "  </tbody>\n",
       "</table>\n",
       "</div>"
      ],
      "text/plain": [
       "                                                 url  product_id  \\\n",
       "0  https://www.amazon.com/All-new-Kindle-Paperwhi...  B08KTZ8249   \n",
       "1  https://www.amazon.com/Blocking-Glasses-Comput...  B07W781XWF   \n",
       "2  https://www.amazon.com/all-new-Echo-Dot/dp/B07...  B07XJ8C8F5   \n",
       "3  https://www.amazon.com/Tcstei-Protector-Outlet...  B08PC872RL   \n",
       "4  https://www.amazon.com/fire-tv-stick-lite-late...  B091G4YP57   \n",
       "\n",
       "                                            category  \n",
       "0  {'name': 'electronics', 'url': 'https://www.am...  \n",
       "1  {'name': 'electronics', 'url': 'https://www.am...  \n",
       "2  {'name': 'electronics', 'url': 'https://www.am...  \n",
       "3  {'name': 'electronics', 'url': 'https://www.am...  \n",
       "4  {'name': 'electronics', 'url': 'https://www.am...  "
      ]
     },
     "execution_count": 14,
     "metadata": {},
     "output_type": "execute_result"
    }
   ],
   "source": [
    "df = pd.read_csv(product_category_links_output)\n",
    "df.head()"
   ]
  },
  {
   "cell_type": "code",
   "execution_count": 15,
   "id": "faab4588",
   "metadata": {},
   "outputs": [
    {
     "data": {
      "text/plain": [
       "(90, 3)"
      ]
     },
     "execution_count": 15,
     "metadata": {},
     "output_type": "execute_result"
    }
   ],
   "source": [
    "df.shape"
   ]
  },
  {
   "cell_type": "code",
   "execution_count": 16,
   "id": "74025905",
   "metadata": {},
   "outputs": [],
   "source": [
    "df_sub = df.copy()"
   ]
  },
  {
   "cell_type": "code",
   "execution_count": 17,
   "id": "de67f99a",
   "metadata": {},
   "outputs": [
    {
     "name": "stdout",
     "output_type": "stream",
     "text": [
      "https://www.amazon.com/All-new-Kindle-Paperwhite-adjustable-Ad-Supported/dp/B08KTZ8249/ref=zg_bs_electronics_24/131-6504244-7830130?pd_rd_i=B08KTZ8249&psc=1 None None\n",
      "https://www.amazon.com/Blocking-Glasses-Computer-Reading-Eyestrain/dp/B07W781XWF/ref=zg_bs_electronics_17/131-6504244-7830130?pd_rd_i=B09N7LVXLH&psc=1 None None\n",
      "https://www.amazon.com/all-new-Echo-Dot/dp/B07XJ8C8F5/ref=zg_bs_electronics_4/131-6504244-7830130?pd_rd_i=B07XJ8C8F5&psc=1 None None\n",
      "https://www.amazon.com/Tcstei-Protector-Outlets-Extension-Essentials/dp/B08PC872RL/ref=zg_bs_electronics_25/131-6504244-7830130?pd_rd_i=B08PC872RL&psc=1 None None\n",
      "https://www.amazon.com/fire-tv-stick-lite-latest-alexa-voice-remote-lite/dp/B091G4YP57/ref=zg_bs_electronics_20/131-6504244-7830130?pd_rd_i=B091G4YP57&psc=1 None None\n",
      "https://www.amazon.com/Echo-Dot/dp/B07FZ8S74R/ref=zg_bs_electronics_3/131-6504244-7830130?pd_rd_i=B07FZ8S74R&psc=1 None None\n",
      "https://www.amazon.com/Sabrent-4-Port-Individual-Switches-HB-UMLS/dp/B00BWF5U0M/ref=zg_bs_electronics_28/131-6504244-7830130?pd_rd_i=B00BWF5U0M&psc=1 None None\n",
      "https://www.amazon.com/fire-tv-stick-with-3rd-gen-alexa-voice-remote/dp/B08C1W5N87/ref=zg_bs_electronics_1/131-6504244-7830130?pd_rd_i=B08C1W5N87&psc=1 None None\n",
      "https://www.amazon.com/Charger-Protector-QINLIANF-Extender-Charging/dp/B08R6S1M1K/ref=zg_bs_electronics_12/131-6504244-7830130?pd_rd_i=B08R6S1M1K&psc=1 None None\n",
      "https://www.amazon.com/Fujifilm-INSTAX-Instant-Twin-Pack/dp/B00EB4ADQW/ref=zg_bs_electronics_14/131-6504244-7830130?pd_rd_i=B00EB4ADQW&psc=1 None None\n",
      "https://www.amazon.com/fire-tv-stick-lite/dp/B07YNLBS7R/ref=zg_bs_electronics_18/131-6504244-7830130?pd_rd_i=B07YNLBS7R&psc=1 None None\n",
      "https://www.amazon.com/Apple-MX542AM-A-AirTag-Pack/dp/B0932QJ2JZ/ref=zg_bs_electronics_13/131-6504244-7830130?pd_rd_i=B0932QJ2JZ&psc=1 None None\n",
      "https://www.amazon.com/Surge-Protector-Power-Strip-Extension/dp/B092J8LPWR/ref=zg_bs_electronics_26/131-6504244-7830130?pd_rd_i=B092J8LPWR&psc=1 None None\n",
      "https://www.amazon.com/Spotlight-Security-Weatherproof-Compatible-Assistant/dp/B095NWYQBC/ref=zg_bs_electronics_7/131-6504244-7830130?pd_rd_i=B09PGZQLY9&psc=1 Wyze Cam Spotlight, Wyze Cam v3 Security Camera with Spotlight Kit, 1080p HD Security Camera with Two-Way Audio and Siren, IP65 Weatherproof, Compatible with Alexa and Google Assistant $49.96\n",
      "https://www.amazon.com/Roku-Streaming-Device-Vision-Controls/dp/B09BKCDXZC/ref=zg_bs_electronics_23/131-6504244-7830130?pd_rd_i=B09BKCDXZC&psc=1 None None\n",
      "https://www.amazon.com/OHill-Organizer-Management-Organizing-Adhesive/dp/B071FXZBMV/ref=zg_bs_electronics_29/131-6504244-7830130?pd_rd_i=B071FXZBMV&psc=1 None None\n",
      "https://www.amazon.com/Apple-MX532AM-A-AirTag/dp/B0933BVK6T/ref=zg_bs_electronics_5/131-6504244-7830130?pd_rd_i=B0933BVK6T&psc=1 None None\n",
      "https://www.amazon.com/All-new-Echo-Dot-Blue/dp/B084J4MZK8/ref=zg_bs_electronics_30/131-6504244-7830130?pd_rd_i=B084J4MZK8&psc=1 None None\n",
      "https://www.amazon.com/Sceptre-E248W-19203R-Monitor-Speakers-Metallic/dp/B0773ZY26F/ref=zg_bs_electronics_21/131-6504244-7830130?pd_rd_i=B0773ZY26F&psc=1 None None\n",
      "https://www.amazon.com/Protector-POWRUI-6-Outlet-Extender-Charging/dp/B07CCGBB7M/ref=zg_bs_electronics_27/131-6504244-7830130?pd_rd_i=B07CCGBB7M&psc=1 None None\n",
      "https://www.amazon.com/Protector-Nuetsa-Extension-Outlets-Joules/dp/B09F2XPJ47/ref=zg_bs_electronics_16/131-6504244-7830130?pd_rd_i=B09F2XPJ47&psc=1 None None\n",
      "https://www.amazon.com/all-new-fire-tv-stick-4k-with-alexa-voice-remote/dp/B08XVYZ1Y5/ref=zg_bs_electronics_2/131-6504244-7830130?pd_rd_i=B08XVYZ1Y5&psc=1 None None\n",
      "https://www.amazon.com/fire-tv-stick-4k-max-with-alexa-voice-remote/dp/B08MQZXN1X/ref=zg_bs_electronics_9/131-6504244-7830130?pd_rd_i=B08MQZXN1X&psc=1 None None\n",
      "https://www.amazon.com/Roku-Express-Streaming-Wireless-Controls/dp/B0916TKFF2/ref=zg_bs_electronics_6/131-6504244-7830130?pd_rd_i=B0916TKFF2&psc=1 None None\n",
      "https://www.amazon.com/Amazon-smart-plug-works-with-Alexa/dp/B089DR29T6/ref=zg_bs_electronics_10/131-6504244-7830130?pd_rd_i=B07KTYJ769&psc=1 None None\n",
      "https://www.amazon.com/Introducing-Blink-Doorbell-Two-way-enabled/dp/B08SGC46M9/ref=zg_bs_electronics_8/131-6504244-7830130?pd_rd_i=B09DFGMQWJ&psc=1 None None\n",
      "https://www.amazon.com/Ferilinso-Designed-Protector-Tempered-Definition/dp/B09BNBMT8Y/ref=zg_bs_electronics_19/131-6504244-7830130?pd_rd_i=B09BNBMT8Y&psc=1 None None\n",
      "https://www.amazon.com/Roku-Express-Streaming-Media-Player/dp/B07WVFCVJN/ref=zg_bs_electronics_11/131-6504244-7830130?pd_rd_i=B07WVFCVJN&psc=1 None None\n",
      "https://www.amazon.com/Certified-Refurbished-Fire-TV-Stick-Light/dp/B085PL3BJ1/ref=zg_bs_electronics_22/131-6504244-7830130?pd_rd_i=B085PL3BJ1&psc=1 None None\n",
      "https://www.amazon.com/FosPower-Emergency-Portable-Household-Flashlight/dp/B07FKYHTWP/ref=zg_bs_electronics_15/131-6504244-7830130?pd_rd_i=B07FKYHTWP&psc=1 FosPower 2000mAh NOAA Emergency Weather Radio (Model A1) Portable Power Bank with Solar Charging, Hand Crank & Battery Operated, SOS Alarm, AM/FM & LED Flashlight for Outdoor Emergency $25.49\n",
      "https://www.amazon.com/Amazon-Basics-Lightweight-Microfiber-Pockets/dp/B07QTQQT2K/ref=zg_bs_home-garden_1/131-6504244-7830130?pd_rd_i=B00U8QEXBS&psc=1 None None\n",
      "https://www.amazon.com/Descaler-Pack-Uses-Bottle-Universal/dp/B01M7WZFAS/ref=zg_bs_home-garden_26/131-6504244-7830130?pd_rd_i=B01M7WZFAS&psc=1 None None\n",
      "https://www.amazon.com/Bedsure-Satin-Pillowcase-Hair-2-Pack/dp/B085ZZQQKV/ref=zg_bs_home-garden_11/131-6504244-7830130?pd_rd_i=B07RHQ481S&psc=1 None None\n",
      "https://www.amazon.com/Beckham-Hotel-Collection-Pillow-2-Pack/dp/B01LYNW421/ref=zg_bs_home-garden_5/131-6504244-7830130?pd_rd_i=B08LCJHZVJ&psc=1 None None\n",
      "https://www.amazon.com/Mellanni-Extra-Deep-Pocket-Sheets/dp/B08BZY2D1D/ref=zg_bs_home-garden_4/131-6504244-7830130?pd_rd_i=B00NLLUKZA&psc=1 None None\n",
      "https://www.amazon.com/Zulay-Original-Milk-Frother-Handheld/dp/B09D8T11YS/ref=zg_bs_home-garden_14/131-6504244-7830130?pd_rd_i=B08R942ZW5&psc=1 None None\n",
      "https://www.amazon.com/BigFoot-Shower-Curtain-Liner-Compatible/dp/B08CRPWQHB/ref=zg_bs_home-garden_20/131-6504244-7830130?pd_rd_i=B08PFT5NKL&psc=1 None None\n",
      "https://www.amazon.com/KitchenAid-Classic-Multifunction-Opener-8-34-Inch/dp/B08TT55CV2/ref=zg_bs_home-garden_29/131-6504244-7830130?pd_rd_i=B0916GVLM5&psc=1 None None\n",
      "https://www.amazon.com/GiveBest-Portable-Electric-Certified-Thermostat/dp/B07XRQ7GHJ/ref=zg_bs_home-garden_17/131-6504244-7830130?pd_rd_i=B09J4JHNY1&psc=1 None None\n",
      "https://www.amazon.com/SafeRest-Hypoallergenic-Waterproof-Mattress-Protector/dp/B003PWS9AI/ref=zg_bs_home-garden_3/131-6504244-7830130?pd_rd_i=B09MFGF1CJ&psc=1 None None\n",
      "https://www.amazon.com/Ninja-Personal-Smoothies-Blending-700-Watt/dp/B01FHOWYA2/ref=zg_bs_home-garden_27/131-6504244-7830130?pd_rd_i=B09Q5DMGVW&psc=1 None None\n",
      "https://www.amazon.com/Poo-Pourri-Tropical-Hibiscus-10ml-3-Pack/dp/B08QTSX64K/ref=zg_bs_home-garden_23/131-6504244-7830130?pd_rd_i=B09T1SW7XB&psc=1 None None\n",
      "https://www.amazon.com/downluxe-Clear-Shower-Curtain-Liner/dp/B081J7SBP4/ref=zg_bs_home-garden_28/131-6504244-7830130?pd_rd_i=B08V4H36YQ&psc=1 None None\n",
      "https://www.amazon.com/Individuals-DMS001RD-Electric-Individual-Breakfast/dp/B09RV2TYD3/ref=zg_bs_home-garden_25/131-6504244-7830130?pd_rd_i=B09665FW2B&psc=1 None None\n",
      "https://www.amazon.com/EASELAND-Mattress-Quilted-Protector-Cooling/dp/B08XJW8FXT/ref=zg_bs_home-garden_16/131-6504244-7830130?pd_rd_i=B08BZC6NTP&psc=1 None None\n",
      "https://www.amazon.com/Utopia-Bedding-Comforter-Duvet-Insert/dp/B084WWSJXC/ref=zg_bs_home-garden_22/131-6504244-7830130?pd_rd_i=B074P9Q7PJ&psc=1 Utopia Bedding Comforter Duvet Insert - Quilted Comforter with Corner Tabs - Box Stitched Down Alternative Comforter (Twin, Beige) $21.24\n",
      "https://www.amazon.com/AquaOasisTM-Humidifier-Ultrasonic-Humidifiers-Bedroom/dp/B08FKYJHCF/ref=zg_bs_home-garden_8/131-6504244-7830130?pd_rd_i=B08FKYJHCF&psc=1 None None\n",
      "https://www.amazon.com/Measuring-Simply-Gourmet-Stainless-Nesting/dp/B06W9MSFBZ/ref=zg_bs_home-garden_12/131-6504244-7830130?pd_rd_i=B09NN9CPG7&psc=1 None None\n",
      "https://www.amazon.com/All-New-Echo-Dot-4th-Gen/dp/B07XJ8C8F7/ref=zg_bs_home-garden_21/131-6504244-7830130?pd_rd_i=B08DLSLCF3&psc=1 None None\n",
      "https://www.amazon.com/CGK-Unlimited-Twin-Size-Sheet/dp/B06X9HB9ZD/ref=zg_bs_home-garden_10/131-6504244-7830130?pd_rd_i=B07RMKVK7W&psc=1 None None\n",
      "https://www.amazon.com/Utopia-Bedding-3-Piece-Sheets-Beige/dp/B00J602E54/ref=zg_bs_home-garden_24/131-6504244-7830130?pd_rd_i=B09JPFH7KW&psc=1 None None\n",
      "https://www.amazon.com/Bissell-39N7V-Surface-Steam-Cleaner/dp/B07V39L623/ref=zg_bs_home-garden_18/131-6504244-7830130?pd_rd_i=B09LH8WCF8&psc=1 None None\n",
      "https://www.amazon.com/GreaterGoods-Digital-Kitchen-Multifunction-Measures/dp/B01JTDG084/ref=zg_bs_home-garden_19/131-6504244-7830130?pd_rd_i=B07Z5S7S9Q&psc=1 None None\n",
      "https://www.amazon.com/Amazon-Basics-Non-Slip-Clothes-Hangers/dp/B07Y39B8V9/ref=zg_bs_home-garden_7/131-6504244-7830130?pd_rd_i=B0793FBDC8&psc=1 None None\n",
      "https://www.amazon.com/LuxClub-Friendly-Hypoallergenic-Anti-Bacteria-Washable/dp/B07WGPNSM6/ref=zg_bs_home-garden_9/131-6504244-7830130?pd_rd_i=B07N8KN3X8&psc=1 None None\n",
      "https://www.amazon.com/Hilife-Steamer-Handheld-Clothing-Capacity/dp/B07HF3X6Y4/ref=zg_bs_home-garden_30/131-6504244-7830130?pd_rd_i=B07HF3X6Y4&psc=1 Hilife Steamer for Clothes Steamer, Handheld Garment Steamer Clothing Iron 240ml Big Capacity Upgraded Version $29.99\n",
      "https://www.amazon.com/Infrared-Heater-infrared-outdoor-ceiling/dp/B077JM5PB9/ref=zg_bs_home-garden_2/131-6504244-7830130?pd_rd_i=B09NMVYXCP&psc=1 None None\n",
      "https://www.amazon.com/Utopia-Bedding-Throw-Pillows-Insert/dp/B07XXRKMCW/ref=zg_bs_home-garden_6/131-6504244-7830130?pd_rd_i=B09M86VPKR&psc=1 None None\n",
      "https://www.amazon.com/LiBa-Mildew-Resistant-Anti-Microbial-Curtain/dp/B0829F1BD6/ref=zg_bs_home-garden_15/131-6504244-7830130?pd_rd_i=B09RB9PQJG&psc=1 None None\n",
      "https://www.amazon.com/BlenderBottle-C03588-Classic-Shaker-20-Ounce/dp/B07TNB1S7Z/ref=zg_bs_home-garden_13/131-6504244-7830130?pd_rd_i=B09H3WNDVY&psc=1 None None\n",
      "https://www.amazon.com/SunWorks-Construction-Paper-Black-Sheets/dp/B002LARR7Q/ref=zg_bs_toys-and-games_22/131-6504244-7830130?pd_rd_i=B07XKDSKXS&psc=1 None None\n",
      "https://www.amazon.com/Fisher-Price-Laugh-Learn-Smart-Stages/dp/B01NCUPCD4/ref=zg_bs_toys-and-games_27/131-6504244-7830130?pd_rd_i=B082X1P17N&psc=1 None None\n",
      "https://www.amazon.com/SHASHIBO-Shifting-Geometric-Magnetic-Transforming/dp/B07W7FLKRW/ref=zg_bs_toys-and-games_17/131-6504244-7830130?pd_rd_i=B09NTXBJDM&psc=1 None None\n",
      "https://www.amazon.com/Crayola-Ultra-Clean-Washable-Non-Toxic-Classrooms/dp/B013RQPB5C/ref=zg_bs_toys-and-games_24/131-6504244-7830130?pd_rd_i=B09RHP4QNY&psc=1 None None\n",
      "https://www.amazon.com/Family-Sturdy-Storage-Travel-Friendly-Exclusive/dp/B07P6MZPK3/ref=zg_bs_toys-and-games_21/131-6504244-7830130?pd_rd_i=B09PRL4CDJ&psc=1 None None\n",
      "https://www.amazon.com/LEGO-Building-Officer-Minifigure-Flashlight/dp/B09FMW7FFF/ref=zg_bs_toys-and-games_5/131-6504244-7830130?pd_rd_i=B09FMW7FFF&psc=1 LEGO City Police Car 60312 Building Kit for Kids Aged 5 and Up; Includes a Police Officer Minifigure with a Toy Flashlight and a Police Cap (94 Pieces) $8.49\n",
      "https://www.amazon.com/BUNMO-Pop-Tubes-Sensory-Toy/dp/B07MBW6JNL/ref=zg_bs_toys-and-games_19/131-6504244-7830130?pd_rd_i=B09LCLLH1S&psc=1 None None\n",
      "https://www.amazon.com/TeeTurtle-Reversible-Octopus-Plushie-Patented/dp/B092P3LW22/ref=zg_bs_toys-and-games_8/131-6504244-7830130?pd_rd_i=B09DJTXGBN&psc=1 None None\n",
      "https://www.amazon.com/Joe-Classified-Collectible-Accessories-6-Inch-Scale/dp/B09QD3PBNJ/ref=zg_bs_toys-and-games_3/131-6504244-7830130?pd_rd_i=B09QD3PBNJ&psc=1 None None\n",
      "https://www.amazon.com/LeapFrog-80-609540-100-Animals-Book/dp/B085KTQKNC/ref=zg_bs_toys-and-games_6/131-6504244-7830130?pd_rd_i=B0953YFR2M&psc=1 None None\n",
      "https://www.amazon.com/Surprise-Growing-Hatching-Toys-Assorted/dp/B075ZJ37NR/ref=zg_bs_toys-and-games_25/131-6504244-7830130?pd_rd_i=B075ZJ37NR&psc=1 None None\n",
      "https://www.amazon.com/Joe-Classified-Collectible-Accessories-6-Inch-Scale/dp/B09KMK29Z9/ref=zg_bs_toys-and-games_1/131-6504244-7830130?pd_rd_i=B09KMK29Z9&psc=1 None None\n",
      "https://www.amazon.com/Crayola-Colored-Pencil-Supplies-Assorted/dp/B00006RVTS/ref=zg_bs_toys-and-games_18/131-6504244-7830130?pd_rd_i=B09MH514FH&psc=1 None None\n",
      "https://www.amazon.com/Crayola-Outdoor-Glitter-Sidewalk-Summer/dp/B00PY47F8M/ref=zg_bs_toys-and-games_14/131-6504244-7830130?pd_rd_i=B084GXNK14&psc=1 None None\n",
      "https://www.amazon.com/Learn-Climb-Science-Kit-Kids/dp/B07VN75JFC/ref=zg_bs_toys-and-games_15/131-6504244-7830130?pd_rd_i=B07VN75JFC&psc=1 None None\n",
      "https://www.amazon.com/Transformers-Generations-Collaborative-Megatron-H-I-S-S/dp/B000OZW7M0/ref=zg_bs_toys-and-games_11/131-6504244-7830130?pd_rd_i=B000OZW7M0&psc=1 None None\n",
      "https://www.amazon.com/Taco-Cat-Goat-Cheese-Pizza/dp/B077Z1R28P/ref=zg_bs_toys-and-games_28/131-6504244-7830130?pd_rd_i=B077Z1R28P&psc=1 None None\n",
      "https://www.amazon.com/Surprise-Growing-Hatching-Toys-Assorted/dp/B075ZJ37NR/ref=zg_bs_toys-and-games_map_25/131-6504244-7830130?pd_rd_i=B075ZJ37NR&psc=1 None None\n",
      "https://www.amazon.com/Cream-Tea-Magic-Mixies-Cauldron/dp/B08S583D9Q/ref=zg_bs_toys-and-games_9/131-6504244-7830130?pd_rd_i=B09F9KJRPM&psc=1 Magic Mixies Magical Misting Cauldron with Interactive 8 inch Blue Plush Toy and 50+ Sounds and Reactions, Multicolor $54.99\n",
      "https://www.amazon.com/Joe-Classified-Collectible-Accessories-6-Inch-Scale/dp/B09KMGVYJJ/ref=zg_bs_toys-and-games_2/131-6504244-7830130?pd_rd_i=B09KMGVYJJ&psc=1 None None\n",
      "https://www.amazon.com/IDAODAN-Portable-Electric-Inflator-Decoration/dp/B012A7R7I8/ref=zg_bs_toys-and-games_30/131-6504244-7830130?pd_rd_i=B012A7R7I8&psc=1 None None\n",
      "https://www.amazon.com/Star-Wars-Collection-Special-3-75-Inch-Scale/dp/B09K1TT386/ref=zg_bs_toys-and-games_29/131-6504244-7830130?pd_rd_i=B09K1TT386&psc=1 None None\n",
      "https://www.amazon.com/Sassy-Stacks-Circles-Stacking-Learning/dp/B07NXDJ52C/ref=zg_bs_toys-and-games_10/131-6504244-7830130?pd_rd_i=B07NXDJ52C&psc=1 None None\n",
      "https://www.amazon.com/Pokemon-TCG-Authentic-Expansion-Holofoils/dp/B001DIJ48C/ref=zg_bs_toys-and-games_16/131-6504244-7830130?pd_rd_i=B001DIJ48C&psc=1 None None\n",
      "https://www.amazon.com/Play-Doh-Modeling-Compound-Non-Toxic-Exclusive/dp/B00JM5GW10/ref=zg_bs_toys-and-games_12/131-6504244-7830130?pd_rd_i=B00JM5GW10&psc=1 None None\n",
      "https://www.amazon.com/You-Laugh-Drink-Drinking-Straight/dp/B08FCVJ7N2/ref=zg_bs_toys-and-games_20/131-6504244-7830130?pd_rd_i=B08FCVJ7N2&psc=1 None None\n",
      "https://www.amazon.com/Bentgo-Kids-Prints-Camouflage-5-Compartment/dp/B07R2CNSTK/ref=zg_bs_toys-and-games_23/131-6504244-7830130?pd_rd_i=B07SZHBGZH&psc=1 None None\n",
      "https://www.amazon.com/Joe-Wilkinson-Action-Collectible-Accessories-6-Inch-Scale/dp/B09KMHDWNF/ref=zg_bs_toys-and-games_4/131-6504244-7830130?pd_rd_i=B09KMHDWNF&psc=1 None None\n",
      "https://www.amazon.com/LEGO-Millennium-Microfighter-Building-Construction/dp/B08HVZYX76/ref=zg_bs_toys-and-games_13/131-6504244-7830130?pd_rd_i=B08HVZYX76&psc=1 None None\n",
      "https://www.amazon.com/Kinetic-Sand-Mixing-Molding-Creating/dp/B07GTDRNKD/ref=zg_bs_toys-and-games_26/131-6504244-7830130?pd_rd_i=B09CVNY1F7&psc=1 None None\n"
     ]
    }
   ],
   "source": [
    "df_sub = df_sub.apply(row_scrape_event, axis=1)"
   ]
  },
  {
   "cell_type": "code",
   "execution_count": 18,
   "id": "80a910e7",
   "metadata": {},
   "outputs": [],
   "source": [
    "df.to_csv(product_output, index=False)\n",
    "products_df = pd.read_csv(product_output)"
   ]
  },
  {
   "cell_type": "code",
   "execution_count": 19,
   "id": "fba0cf93",
   "metadata": {},
   "outputs": [],
   "source": [
    "final_df = pd.concat([products_df, df_sub])\n",
    "final_df.to_csv(product_output, index=False)"
   ]
  },
  {
   "cell_type": "code",
   "execution_count": 20,
   "id": "9e6f0be4",
   "metadata": {},
   "outputs": [
    {
     "data": {
      "text/html": [
       "<div>\n",
       "<style scoped>\n",
       "    .dataframe tbody tr th:only-of-type {\n",
       "        vertical-align: middle;\n",
       "    }\n",
       "\n",
       "    .dataframe tbody tr th {\n",
       "        vertical-align: top;\n",
       "    }\n",
       "\n",
       "    .dataframe thead th {\n",
       "        text-align: right;\n",
       "    }\n",
       "</style>\n",
       "<table border=\"1\" class=\"dataframe\">\n",
       "  <thead>\n",
       "    <tr style=\"text-align: right;\">\n",
       "      <th></th>\n",
       "      <th>url</th>\n",
       "      <th>product_id</th>\n",
       "      <th>category</th>\n",
       "      <th>title</th>\n",
       "      <th>price</th>\n",
       "      <th>scraped</th>\n",
       "      <th>timestamp</th>\n",
       "    </tr>\n",
       "  </thead>\n",
       "  <tbody>\n",
       "    <tr>\n",
       "      <th>0</th>\n",
       "      <td>https://www.amazon.com/All-new-Kindle-Paperwhi...</td>\n",
       "      <td>B08KTZ8249</td>\n",
       "      <td>{'name': 'electronics', 'url': 'https://www.am...</td>\n",
       "      <td>NaN</td>\n",
       "      <td>NaN</td>\n",
       "      <td>NaN</td>\n",
       "      <td>NaN</td>\n",
       "    </tr>\n",
       "    <tr>\n",
       "      <th>1</th>\n",
       "      <td>https://www.amazon.com/Blocking-Glasses-Comput...</td>\n",
       "      <td>B07W781XWF</td>\n",
       "      <td>{'name': 'electronics', 'url': 'https://www.am...</td>\n",
       "      <td>NaN</td>\n",
       "      <td>NaN</td>\n",
       "      <td>NaN</td>\n",
       "      <td>NaN</td>\n",
       "    </tr>\n",
       "    <tr>\n",
       "      <th>2</th>\n",
       "      <td>https://www.amazon.com/all-new-Echo-Dot/dp/B07...</td>\n",
       "      <td>B07XJ8C8F5</td>\n",
       "      <td>{'name': 'electronics', 'url': 'https://www.am...</td>\n",
       "      <td>NaN</td>\n",
       "      <td>NaN</td>\n",
       "      <td>NaN</td>\n",
       "      <td>NaN</td>\n",
       "    </tr>\n",
       "    <tr>\n",
       "      <th>3</th>\n",
       "      <td>https://www.amazon.com/Tcstei-Protector-Outlet...</td>\n",
       "      <td>B08PC872RL</td>\n",
       "      <td>{'name': 'electronics', 'url': 'https://www.am...</td>\n",
       "      <td>NaN</td>\n",
       "      <td>NaN</td>\n",
       "      <td>NaN</td>\n",
       "      <td>NaN</td>\n",
       "    </tr>\n",
       "    <tr>\n",
       "      <th>4</th>\n",
       "      <td>https://www.amazon.com/fire-tv-stick-lite-late...</td>\n",
       "      <td>B091G4YP57</td>\n",
       "      <td>{'name': 'electronics', 'url': 'https://www.am...</td>\n",
       "      <td>NaN</td>\n",
       "      <td>NaN</td>\n",
       "      <td>NaN</td>\n",
       "      <td>NaN</td>\n",
       "    </tr>\n",
       "  </tbody>\n",
       "</table>\n",
       "</div>"
      ],
      "text/plain": [
       "                                                 url  product_id  \\\n",
       "0  https://www.amazon.com/All-new-Kindle-Paperwhi...  B08KTZ8249   \n",
       "1  https://www.amazon.com/Blocking-Glasses-Comput...  B07W781XWF   \n",
       "2  https://www.amazon.com/all-new-Echo-Dot/dp/B07...  B07XJ8C8F5   \n",
       "3  https://www.amazon.com/Tcstei-Protector-Outlet...  B08PC872RL   \n",
       "4  https://www.amazon.com/fire-tv-stick-lite-late...  B091G4YP57   \n",
       "\n",
       "                                            category title price  scraped  \\\n",
       "0  {'name': 'electronics', 'url': 'https://www.am...   NaN   NaN      NaN   \n",
       "1  {'name': 'electronics', 'url': 'https://www.am...   NaN   NaN      NaN   \n",
       "2  {'name': 'electronics', 'url': 'https://www.am...   NaN   NaN      NaN   \n",
       "3  {'name': 'electronics', 'url': 'https://www.am...   NaN   NaN      NaN   \n",
       "4  {'name': 'electronics', 'url': 'https://www.am...   NaN   NaN      NaN   \n",
       "\n",
       "   timestamp  \n",
       "0        NaN  \n",
       "1        NaN  \n",
       "2        NaN  \n",
       "3        NaN  \n",
       "4        NaN  "
      ]
     },
     "execution_count": 20,
     "metadata": {},
     "output_type": "execute_result"
    }
   ],
   "source": [
    "final_df.head()"
   ]
  }
 ],
 "metadata": {
  "kernelspec": {
   "display_name": "Python 3 (ipykernel)",
   "language": "python",
   "name": "python3"
  },
  "language_info": {
   "codemirror_mode": {
    "name": "ipython",
    "version": 3
   },
   "file_extension": ".py",
   "mimetype": "text/x-python",
   "name": "python",
   "nbconvert_exporter": "python",
   "pygments_lexer": "ipython3",
   "version": "3.8.3"
  }
 },
 "nbformat": 4,
 "nbformat_minor": 5
}
