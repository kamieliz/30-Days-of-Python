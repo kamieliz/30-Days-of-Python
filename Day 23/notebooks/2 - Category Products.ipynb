{
 "cells": [
  {
   "cell_type": "code",
   "execution_count": 28,
   "id": "71fca0b0",
   "metadata": {},
   "outputs": [],
   "source": [
    "import requests\n",
    "from requests_html import HTML\n",
    "import time\n",
    "from selenium import webdriver\n",
    "from selenium.webdriver.chrome.options import Options\n",
    "from selenium.webdriver.common.by import By"
   ]
  },
  {
   "cell_type": "code",
   "execution_count": 13,
   "id": "86abd802",
   "metadata": {},
   "outputs": [],
   "source": [
    "options = Options()\n",
    "options.add_argument(\"--headless\")\n",
    "\n",
    "driver = webdriver.Chrome(options=options)"
   ]
  },
  {
   "cell_type": "code",
   "execution_count": 29,
   "id": "9b73e1f4",
   "metadata": {},
   "outputs": [],
   "source": [
    "categories = [\n",
    "    \"https://www.amazon.com/Best-Sellers-Electronics/zgbs/electronics/\",\n",
    "    \"https://www.amazon.com/Best-Sellers-Home-Kitchen/zgbs/home-garden/\",\n",
    "    \"https://www.amazon.com/Best-Sellers-Toys-Games/zgbs/toys-and-games/\"\n",
    "]"
   ]
  },
  {
   "cell_type": "code",
   "execution_count": 21,
   "id": "b0b011be",
   "metadata": {},
   "outputs": [],
   "source": [
    "first_url = categories[0]\n",
    "driver.get(first_url)"
   ]
  },
  {
   "cell_type": "code",
   "execution_count": 22,
   "id": "1634fcf9",
   "metadata": {},
   "outputs": [],
   "source": [
    "body_el = driver.find_element(By.CSS_SELECTOR, 'body')\n",
    "html_str = body_el.get_attribute('innerHTML')"
   ]
  },
  {
   "cell_type": "code",
   "execution_count": 23,
   "id": "9934e3f8",
   "metadata": {},
   "outputs": [],
   "source": [
    "html_obj = HTML(html=html_str)"
   ]
  },
  {
   "cell_type": "code",
   "execution_count": 24,
   "id": "6344ae4b",
   "metadata": {},
   "outputs": [
    {
     "name": "stdout",
     "output_type": "stream",
     "text": [
      "['/Apple-MX532AM-A-AirTag/dp/B0933BVK6T/ref=zg_bs_electronics_11/134-5251365-4073444?pd_rd_i=B0933BVK6T&psc=1', '/Smart-Home/b/?ie=UTF8&node=6563140011&ref_=nav_cs_smart_home', '/gp/help/customer/display.html?nodeId=508510&ref_=footer_gw_m_b_he', '/product-reviews/B0773ZY26F/ref=zg_bs_electronics_cr_18/134-5251365-4073444?pd_rd_i=B0773ZY26F', '/gp/browse.html?node=10158976011&ref_=footer_wrhsdls', '/gp/browse.html?node=10232440011&ref_=footer_reload_us', '/gp/prime?ref_=footer_prime', '/Best-Sellers-Electronics-Car-Electronics/zgbs/electronics/1077068/ref=zg_bs_nav_electronics_1', '/gp/video/library?ref_=nav_AccountFlyout_yvl', '/Best-Sellers-Electronics-Marine-Electronics/zgbs/electronics/319574011/ref=zg_bs_nav_electronics_1', '/gp/browse.html?node=11261610011&ref_=nav_AccountFlyout_b2b_reg', '/amazon-fashion/b/?ie=UTF8&node=7141123011&ref_=nav_cs_fashion', '/tv-video/b/?ie=UTF8&node=1266092011&ref_=sv_e_3', '/musical-instruments-accessories-sound-recording/b/?ie=UTF8&node=11091801&ref_=sv_e_12', '/Apple-MX542AM-A-AirTag-Pack/dp/B0932QJ2JZ/ref=zg_bs_electronics_12/134-5251365-4073444?pd_rd_i=B0932QJ2JZ&psc=1', '/product-reviews/B08MQZXN1X/ref=zg_bs_electronics_cr_8/134-5251365-4073444?pd_rd_i=B08MQZXN1X', '/Best-Sellers-Electronics-Audio-Headphones/zgbs/electronics/172541/ref=zg_bs_nav_electronics_1', '/Best-Sellers-Electronics-Home-Audio-Theater-Products/zgbs/electronics/667846011/ref=zg_bs_nav_electronics_1', '/Best-Sellers-Electronics-Electronics-Accessories-Supplies/zgbs/electronics/281407/ref=zg_bs_nav_electronics_1', '/Best-Sellers-Electronics-Security-Surveillance-Equipment/zgbs/electronics/524136/ref=zg_bs_nav_electronics_1', '/gp/customer-preferences/select-language/ref=footer_lang?ie=UTF8&preferencesReturnUrl=%2FBest-Sellers-Electronics%2Fzgbs%2Felectronics%2F', '/credit/storecard/member?plattr=PLCCFOOT&ref_=footer_plcc', '/gp/css/homepage.html?ref_=nav_AccountFlyout_ya', '/Kindle-eBooks/b/?ie=UTF8&node=154606011&ref_=nav_cs_kindle_books', '/gp/most-wished-for/electronics/ref=zg_bs_tab_t_mw', '/computer-video-games-hardware-accessories/b/?ie=UTF8&node=468642&ref_=nav_cs_video_games', '/product-reviews/B08R6S1M1K/ref=zg_bs_electronics_cr_15/134-5251365-4073444?pd_rd_i=B08R6S1M1K', '/fire-tv-stick-4k-max-with-alexa-voice-remote/dp/B08MQZXN1X/ref=zg_bs_electronics_8/134-5251365-4073444?pd_rd_i=B08MQZXN1X&psc=1', '/gp/history?ref_=nav_AccountFlyout_browsinghistory', '/dp/B07984JN3L?plattr=ACOMFO&ie=UTF-8', '/Blocking-Glasses-Computer-Reading-Eyestrain/dp/B07W781XWF/ref=zg_bs_electronics_16/134-5251365-4073444?pd_rd_i=B09N7LVXLH&psc=1', '/business?ref_=footer_retail_b2b', '/books-used-books-textbooks/b/?ie=UTF8&node=283155&ref_=nav_cs_books', '/gp/subscribe-and-save/manager/viewsubscriptions?ref_=nav_AccountFlyout_sns', '/Wearable-Technology/b/?ie=UTF8&node=10048700011&ref_=sv_e_7', '/Charger-Protector-QINLIANF-Extender-Charging/dp/B08R6S1M1K/ref=zg_bs_electronics_15/134-5251365-4073444?pd_rd_i=B08R6S1M1K&psc=1', '/Best-Sellers-Electronics-Portable-Audio-Video/zgbs/electronics/172623/ref=zg_bs_nav_electronics_1', '/ATTCL-Computer-Blocking-Glasses-5101/dp/B082XVXCTQ/ref=zg_bs_electronics_23/134-5251365-4073444?pd_rd_i=B0857F99L3&psc=1', '/gp/browse.html?node=14498690011&ref_=amzn_nav_ftr_swa', '/prime?ref_=nav_cs_primelink_nonmember', '/gp/help/customer/display.html?nodeId=468520&ref_=footer_shiprates', '/registries?ref_=nav_ListFlyout_find', '/gp/css/order-history?ref_=nav_AccountFlyout_orders', '/Deals-Electronics/b/?ie=UTF8&node=540734&ref_=sv_e_1', '/Best-Sellers-Electronics-Video-Game-Consoles-Accessories/zgbs/electronics/7926841011/ref=zg_bs_nav_electronics_1', '/product-reviews/B09BNBMT8Y/ref=zg_bs_electronics_cr_19/134-5251365-4073444?pd_rd_i=B09BNBMT8Y', '/electronics-store/b/?ie=UTF8&node=172282&ref_=topnav_storetab_e', '/product-reviews/B08C1W5N87/ref=zg_bs_electronics_cr_1/134-5251365-4073444?pd_rd_i=B08C1W5N87', '/computer-pc-hardware-accessories-add-ons/b/?ie=UTF8&node=541966&ref_=nav_cs_pc', '/gp/css/returns/homepage.html?ref_=footer_hy_f_4', '/gp/customer-preferences/select-language/ref=topnav_lang?ie=UTF8&preferencesReturnUrl=%2FBest-Sellers-Electronics%2Fzgbs%2Felectronics%2F', '/stores/node/20648519011?channel=discovbar?field-lbr_brands_browse-bin=AmazonBasics&ref_=nav_cs_amazonbasics', '/Best-Sellers-Electronics-Computers-Electronics-Service-Plans/zgbs/electronics/16285901/ref=zg_bs_nav_electronics_1', '/gp/browse.html?node=2102313011&ref_=footer_devices', '/gp/help/customer/display.html?nodeId=508088&ref_=footer_cou', '/FosPower-Emergency-Portable-Household-Flashlight/dp/B07FKYHTWP/ref=zg_bs_electronics_20/134-5251365-4073444?pd_rd_i=B07FKYHTWP&psc=1', '/gp/bestsellers/?ref_=nav_cs_bestsellers', '/Best-Sellers-Electronics-Cell-Phones-Accessories/zgbs/electronics/2811119011/ref=zg_bs_nav_electronics_1', '/gp/browse.html?node=388305011&ref_=footer_tfx', '/Camera-Photo-Film-Canon-Sony/b/?ie=UTF8&node=502394&ref_=sv_e_6', '/Roku-Express-Streaming-Wireless-Controls/dp/B0916TKFF2/ref=zg_bs_electronics_5/134-5251365-4073444?pd_rd_i=B0916TKFF2&psc=1', '/home-garden-kitchen-furniture-bedding/b/?ie=UTF8&node=1055398&ref_=nav_cs_home', '/hz/mycd/myx?ref_=footer_myk', '/product-reviews/B0932QJ2JZ/ref=zg_bs_electronics_cr_12/134-5251365-4073444?pd_rd_i=B0932QJ2JZ', '/ATTCL-Computer-Blocking-Glasses-5103/dp/B087JSWST7/ref=zg_bs_electronics_22/134-5251365-4073444?pd_rd_i=B087JJMCBQ&psc=1', '/Surge-Protector-Power-Strip-Extension/dp/B092J8LPWR/ref=zg_bs_electronics_27/134-5251365-4073444?pd_rd_i=B092J8LPWR&psc=1', '/gp/css/order-history?ref_=nav_orders_first', '/Tools-and-Home-Improvement/b/?ie=UTF8&node=228013&ref_=nav_cs_hi', '/Coupons/b/?_encoding=UTF8&node=2231352011&ref_=nav_cs_coupons', '/gp/gc/balance?ref_=nav_item_yourgcbalance', '/Best-Sellers/zgbs/ref=zg_bs_unv_electronics_0_1', '/product-reviews/B00BWF5U0M/ref=zg_bs_electronics_cr_28/134-5251365-4073444?pd_rd_i=B00BWF5U0M', '/Office-Electronics/b/?ie=UTF8&node=172574&ref_=sv_e_11', '/Sceptre-E248W-19203R-Monitor-Speakers-Metallic/dp/B0773ZY26F/ref=zg_bs_electronics_18/134-5251365-4073444?pd_rd_i=B0773ZY26F&psc=1', '/ref=nav_logo', '/Beauty-Makeup-Skin-Hair-Products/b/?ie=UTF8&node=3760911&ref_=nav_cs_beauty', '/alm/storefront?almBrandId=QW1hem9uIEZyZXNo&ref_=footer_aff_fresh', '/Roku-Streaming-Device-Vision-Controls/dp/B09BKCDXZC/ref=zg_bs_electronics_24/134-5251365-4073444?pd_rd_i=B09BKCDXZC&psc=1', '/Car-Electronics/b/?ie=UTF8&node=1077068&ref_=sv_e_8', '/?ref_=footer_logo', '/Home-Audio-Electronics/b/?ie=UTF8&node=667846011&ref_=sv_e_4', '/product-reviews/B08PC872RL/ref=zg_bs_electronics_cr_29/134-5251365-4073444?pd_rd_i=B08PC872RL', '/gift-cards/b/?ie=UTF8&node=2238192011&ref_=nav_cs_gc', '/Protector-Nuetsa-Extension-Outlets-Joules/dp/B09F2XPJ47/ref=zg_bs_electronics_13/134-5251365-4073444?pd_rd_i=B09F2XPJ47&psc=1', '/gp/subs/primeclub/account/homepage.html?ref_=nav_AccountFlyout_prime', '/product-reviews/B0916TKFF2/ref=zg_bs_electronics_cr_5/134-5251365-4073444?pd_rd_i=B0916TKFF2', '/fire-tv-stick-lite-latest-alexa-voice-remote-lite/dp/B091G4YP57/ref=zg_bs_electronics_21/134-5251365-4073444?pd_rd_i=B091G4YP57&psc=1', '/product-reviews/B09N7LVXLH/ref=zg_bs_electronics_cr_16/134-5251365-4073444?pd_rd_i=B09N7LVXLH', '/Tcstei-Protector-Outlets-Extension-Essentials/dp/B08PC872RL/ref=zg_bs_electronics_29/134-5251365-4073444?pd_rd_i=B08PC872RL&psc=1', '/automotive-auto-truck-replacements-parts/b/?ie=UTF8&node=15684181&ref_=nav_cs_automotive', '/product-reviews/B09F2XPJ47/ref=zg_bs_electronics_cr_13/134-5251365-4073444?pd_rd_i=B09F2XPJ47', '/gp/browse.html?node=16115931011&ref_=nav_cs_registry', '/gp/bestsellers/electronics/?ie=UTF8&ref_=sv_e_2', '/b/?node=12766669011&ld=AZUSSOA-yaflyout&ref_=nav_AccountFlyout_cs_sell', '/product-reviews/B0933BVK6T/ref=zg_bs_electronics_cr_11/134-5251365-4073444?pd_rd_i=B0933BVK6T', '/gp/BIT/ref=footer_bit_v2_us_A0029?bitCampaignCode=A0029', '/Roku-Express-Streaming-Media-Player/dp/B07WVFCVJN/ref=zg_bs_electronics_10/134-5251365-4073444?pd_rd_i=B07WVFCVJN&psc=1', '/Best-Sellers-Electronics-Office-Electronics-Products/zgbs/electronics/172574/ref=zg_bs_nav_electronics_1', '/gp/clpf?ref_=nav_ListFlyout_smi_se_ya_lll_ll', '/Spotlight-Security-Weatherproof-Compatible-Assistant/dp/B095NWYQBC/ref=zg_bs_electronics_6/134-5251365-4073444?pd_rd_i=B09PGZQLY9&psc=1', '/music/unlimited?ref_=nav_cs_music', '/gp/movers-and-shakers/electronics/ref=zg_bs_tab_t_bsms', '/Certified-Refurbished-Fire-TV-Stick-Light/dp/B085PL3BJ1/ref=zg_bs_electronics_25/134-5251365-4073444?pd_rd_i=B085PL3BJ1&psc=1', '/gp/yourstore/pym/ref=pd_pyml_rhf', '/tv-video/b/?ie=UTF8&node=1266092011&ref_=nav_cs_tv', '/Best-Sellers-Electronics-Camera-Photo-Products/zgbs/electronics/502394/ref=zg_bs_nav_electronics_1', '/gp/browse.html?node=3561432011&ref_=footer_ccmp', '/iss/credit/rewardscardmember?plattr=CBFOOT&ref_=footer_cbcc', '/hz/wishlist/ls?triggerElementID=createList&ref_=nav_ListFlyout_navFlyout_createList_lv_redirect', '/Best-Sellers-Electronics-Computers-Accessories/zgbs/electronics/541966/ref=zg_bs_nav_electronics_1', '/product-reviews/B085PL3BJ1/ref=zg_bs_electronics_cr_25/134-5251365-4073444?pd_rd_i=B085PL3BJ1', '/b/?_encoding=UTF8&ie=UTF8&node=18096056011&ref_=nav_swm_US_BHM22_GW_Desk_SWM_SmBiz&pf_rd_p=ca7196ac-90b9-498e-af55-a0b2096f0ac8&pf_rd_s=nav-sitewide-msg-text&pf_rd_t=4201&pf_rd_i=navbar-4201&pf_rd_m=ATVPDKIKX0DER&pf_rd_r=C9HX8A2TFF6BJSE6TZAX', '/b/?node=17867753011&ref_=nav_cs_shoppertoolkit', '/cell-phones-service-plans-accessories/b/?ie=UTF8&node=2335752011&ref_=sv_e_10', '/Echo-Dot/dp/B07FZ8S74R/ref=zg_bs_electronics_3/134-5251365-4073444?pd_rd_i=B07FZ8S74R&psc=1', '/services?ref_=footer_services', '/b/?ie=UTF8&node=15391321011&ref_=sv_e_13', '/b/?_encoding=UTF8&ld=AZUSSOA-sell&node=12766669011&ref_=nav_cs_sell', '/deals?ref_=nav_cs_gb', '/product-reviews/B0857F99L3/ref=zg_bs_electronics_cr_23/134-5251365-4073444?pd_rd_i=B0857F99L3', '/product-reviews/B07KTYJ769/ref=zg_bs_electronics_cr_9/134-5251365-4073444?pd_rd_i=B07KTYJ769', '/product-reviews/B07FKYHTWP/ref=zg_bs_electronics_cr_20/134-5251365-4073444?pd_rd_i=B07FKYHTWP', '/interestbasedads/ref=footer_iba', '/Ferilinso-Designed-Protector-Tempered-Definition/dp/B09BNBMT8Y/ref=zg_bs_electronics_19/134-5251365-4073444?pd_rd_i=B09BNBMT8Y&psc=1', '/gp/new-releases/?ref_=nav_cs_newreleases', '/gp/help/customer/accessibility', '/product-reviews/B091G4YP57/ref=zg_bs_electronics_cr_21/134-5251365-4073444?pd_rd_i=B091G4YP57', '/Handmade/b/?ie=UTF8&node=11260432011&ref_=nav_cs_handmade', '/product-reviews/B07CCGBB7M/ref=zg_bs_electronics_cr_26/134-5251365-4073444?pd_rd_i=B07CCGBB7M', '/b/?ie=UTF8&node=2226766011&ref_=sv_e_14', '/product-reviews/B09PGZQLY9/ref=zg_bs_electronics_cr_6/134-5251365-4073444?pd_rd_i=B09PGZQLY9', '/all-new-Echo-Dot/dp/B07XJ8C8F5/ref=zg_bs_electronics_4/134-5251365-4073444?pd_rd_i=B07XJ8C8F5&psc=1', '/Fujifilm-INSTAX-Instant-Twin-Pack/dp/B00EB4ADQW/ref=zg_bs_electronics_14/134-5251365-4073444?pd_rd_i=B00EB4ADQW&psc=1', '/toys/b/?ie=UTF8&node=165793011&ref_=nav_cs_toys', '/product-reviews/B09DFGMQWJ/ref=zg_bs_electronics_cr_7/134-5251365-4073444?pd_rd_i=B09DFGMQWJ', '/gp/browse.html?node=230659011&ref_=footer_amazonglobal', '/product-reviews/B071FXZBMV/ref=zg_bs_electronics_cr_30/134-5251365-4073444?pd_rd_i=B071FXZBMV', '/Best-Sellers-Electronics-Televisions-Video-Products/zgbs/electronics/1266092011/ref=zg_bs_nav_electronics_1', '/Best-Sellers-Electronics-eBook-Readers-Accessories/zgbs/electronics/2642125011/ref=zg_bs_nav_electronics_1', '/b/?ie=UTF8&node=172630&ref_=sv_e_9', '/gp/browse.html?node=16218619011&ref_=footer_swp', '/product-reviews/B07XJ8C8F5/ref=zg_bs_electronics_cr_4/134-5251365-4073444?pd_rd_i=B07XJ8C8F5', '/Best-Sellers-Electronics-GPS-Finders-Accessories/zgbs/electronics/172526/ref=zg_bs_nav_electronics_1', '/Best-Sellers-Electronics/zgbs/electronics/ref=zg_bs_pg_2?_encoding=UTF8&pg=2', '/gp/kindle/ku/ku_central?ref_=nav_AccountFlyout_ku', '/hz/mycd/myx?pageType=content&ref_=nav_AccountFlyout_myk', '/product-reviews/B08XVYZ1Y5/ref=zg_bs_electronics_cr_2/134-5251365-4073444?pd_rd_i=B08XVYZ1Y5', '/all-new-fire-tv-stick-4k-with-alexa-voice-remote/dp/B08XVYZ1Y5/ref=zg_bs_electronics_2/134-5251365-4073444?pd_rd_i=B08XVYZ1Y5&psc=1', '/product-reviews/B07FZ8S74R/ref=zg_bs_electronics_cr_3/134-5251365-4073444?pd_rd_i=B07FZ8S74R', '/dp/B07CBJQS16?pr=ibprox&plattr=CCLFOOT&place=camp&ie=UTF-8&ref_=footer_ccl', '/gp/help/customer/display.html?nodeId=468496&ref_=footer_privacy', '/Amazon-smart-plug-works-with-Alexa/dp/B089DR29T6/ref=zg_bs_electronics_9/134-5251365-4073444?pd_rd_i=B07KTYJ769&psc=1', '/Best-Sellers-Electronics/zgbs/electronics/ref=zg_bs_pg_1?_encoding=UTF8&pg=1', '/gp/video/watchlist?ref_=nav_AccountFlyout_ywl', '/gp/browse.html?node=12653393011&ref_=footer_usrenew', '/health-personal-care-nutrition-fitness/b/?ie=UTF8&node=3760901&ref_=nav_cs_hpc', '/gp/product/B084KP3NG6?plattr=SCFOOT&ref_=footer_ACB', '/product-reviews/B07YNLBS7R/ref=zg_bs_electronics_cr_17/134-5251365-4073444?pd_rd_i=B07YNLBS7R', '/gp/help/customer/display.html?nodeId=508510&ref_=nav_cs_customerservice', '/computer-pc-hardware-accessories-add-ons/b/?ie=UTF8&node=541966&ref_=sv_e_5', '/product-reviews/B087JJMCBQ/ref=zg_bs_electronics_cr_22/134-5251365-4073444?pd_rd_i=B087JJMCBQ', '/Protector-POWRUI-6-Outlet-Extender-Charging/dp/B07CCGBB7M/ref=zg_bs_electronics_26/134-5251365-4073444?pd_rd_i=B07CCGBB7M&psc=1', '/b/?node=18190131011&ld=AZUSSOA-seemore&ref_=footer_seemore', '/gp/yourstore?ref_=nav_AccountFlyout_recs', '/product-reviews/B09BKCDXZC/ref=zg_bs_electronics_cr_24/134-5251365-4073444?pd_rd_i=B09BKCDXZC', '/fire-tv-stick-lite/dp/B07YNLBS7R/ref=zg_bs_electronics_17/134-5251365-4073444?pd_rd_i=B07YNLBS7R&psc=1', '/luxurystores?ref_=nav_cs_luxury', '/gp/help/customer/display.html?nodeId=GDFU3JS5AL6SYHRD&ref_=footer_covid', '/hz5/yourmembershipsandsubscriptions?ref_=nav_AccountFlyout_digital_subscriptions', '/product-reviews/B00EB4ADQW/ref=zg_bs_electronics_cr_14/134-5251365-4073444?pd_rd_i=B00EB4ADQW', '/gp/most-gifted/electronics/ref=zg_bs_tab_t_mg', '/gp/browse.html?node=13234696011&ref_=_gno_p_foot', '/gp/seller-account/mm-summary-page.html?ld=AZFooterSelfPublish&topic=200260520&ref_=footer_publishing', '/Introducing-Blink-Doorbell-Two-way-enabled/dp/B08SGC46M9/ref=zg_bs_electronics_7/134-5251365-4073444?pd_rd_i=B09DFGMQWJ&psc=1', '/Sabrent-4-Port-Individual-Switches-HB-UMLS/dp/B00BWF5U0M/ref=zg_bs_electronics_28/134-5251365-4073444?pd_rd_i=B00BWF5U0M&psc=1', '/product-reviews/B092J8LPWR/ref=zg_bs_electronics_cr_27/134-5251365-4073444?pd_rd_i=B092J8LPWR', '/fire-tv-stick-with-3rd-gen-alexa-voice-remote/dp/B08C1W5N87/ref=zg_bs_electronics_1/134-5251365-4073444?pd_rd_i=B08C1W5N87&psc=1', '/product-reviews/B07WVFCVJN/ref=zg_bs_electronics_cr_10/134-5251365-4073444?pd_rd_i=B07WVFCVJN', '/OHill-Organizer-Management-Organizing-Adhesive/dp/B071FXZBMV/ref=zg_bs_electronics_30/134-5251365-4073444?pd_rd_i=B071FXZBMV&psc=1', '/Best-Sellers-Electronics-Wearable-Technology/zgbs/electronics/10048700011/ref=zg_bs_nav_electronics_1', '/customer-preferences/country?ie=UTF8&preferencesReturnUrl=%2FBest-Sellers-Electronics%2Fzgbs%2Felectronics%2F&ref_=footer_icp_cp', '/gp/browse.html?node=15547130011&ref_=_us_footer_drive', '/gp/new-releases/electronics/ref=zg_bs_tab_t_bsnr', '/gp/cart/view.html?ref_=nav_cart', '/pet-shops-dogs-cats-hamsters-kittens/b/?ie=UTF8&node=2619533011&ref_=nav_cs_pets']\n"
     ]
    }
   ],
   "source": [
    "new_links = [x for x in html_obj.links if x.startswith(\"/\")]\n",
    "new_links = [x for x in new_links if \"product-reviews/\" not in x]"
   ]
  },
  {
   "cell_type": "code",
   "execution_count": 25,
   "id": "182855a4",
   "metadata": {},
   "outputs": [
    {
     "name": "stdout",
     "output_type": "stream",
     "text": [
      "['https://www.amazon.com/Apple-MX532AM-A-AirTag/dp/B0933BVK6T/ref=zg_bs_electronics_11/134-5251365-4073444?pd_rd_i=B0933BVK6T&psc=1', 'https://www.amazon.com/Smart-Home/b/?ie=UTF8&node=6563140011&ref_=nav_cs_smart_home', 'https://www.amazon.com/gp/help/customer/display.html?nodeId=508510&ref_=footer_gw_m_b_he', 'https://www.amazon.com/product-reviews/B0773ZY26F/ref=zg_bs_electronics_cr_18/134-5251365-4073444?pd_rd_i=B0773ZY26F', 'https://www.amazon.com/gp/browse.html?node=10158976011&ref_=footer_wrhsdls', 'https://www.amazon.com/gp/browse.html?node=10232440011&ref_=footer_reload_us', 'https://www.amazon.com/gp/prime?ref_=footer_prime', 'https://www.amazon.com/Best-Sellers-Electronics-Car-Electronics/zgbs/electronics/1077068/ref=zg_bs_nav_electronics_1', 'https://www.amazon.com/gp/video/library?ref_=nav_AccountFlyout_yvl', 'https://www.amazon.com/Best-Sellers-Electronics-Marine-Electronics/zgbs/electronics/319574011/ref=zg_bs_nav_electronics_1', 'https://www.amazon.com/gp/browse.html?node=11261610011&ref_=nav_AccountFlyout_b2b_reg', 'https://www.amazon.com/amazon-fashion/b/?ie=UTF8&node=7141123011&ref_=nav_cs_fashion', 'https://www.amazon.com/tv-video/b/?ie=UTF8&node=1266092011&ref_=sv_e_3', 'https://www.amazon.com/musical-instruments-accessories-sound-recording/b/?ie=UTF8&node=11091801&ref_=sv_e_12', 'https://www.amazon.com/Apple-MX542AM-A-AirTag-Pack/dp/B0932QJ2JZ/ref=zg_bs_electronics_12/134-5251365-4073444?pd_rd_i=B0932QJ2JZ&psc=1', 'https://www.amazon.com/product-reviews/B08MQZXN1X/ref=zg_bs_electronics_cr_8/134-5251365-4073444?pd_rd_i=B08MQZXN1X', 'https://www.amazon.com/Best-Sellers-Electronics-Audio-Headphones/zgbs/electronics/172541/ref=zg_bs_nav_electronics_1', 'https://www.amazon.com/Best-Sellers-Electronics-Home-Audio-Theater-Products/zgbs/electronics/667846011/ref=zg_bs_nav_electronics_1', 'https://www.amazon.com/Best-Sellers-Electronics-Electronics-Accessories-Supplies/zgbs/electronics/281407/ref=zg_bs_nav_electronics_1', 'https://www.amazon.com/Best-Sellers-Electronics-Security-Surveillance-Equipment/zgbs/electronics/524136/ref=zg_bs_nav_electronics_1', 'https://www.amazon.com/gp/customer-preferences/select-language/ref=footer_lang?ie=UTF8&preferencesReturnUrl=%2FBest-Sellers-Electronics%2Fzgbs%2Felectronics%2F', 'https://www.amazon.com/credit/storecard/member?plattr=PLCCFOOT&ref_=footer_plcc', 'https://www.amazon.com/gp/css/homepage.html?ref_=nav_AccountFlyout_ya', 'https://www.amazon.com/Kindle-eBooks/b/?ie=UTF8&node=154606011&ref_=nav_cs_kindle_books', 'https://www.amazon.com/gp/most-wished-for/electronics/ref=zg_bs_tab_t_mw', 'https://www.amazon.com/computer-video-games-hardware-accessories/b/?ie=UTF8&node=468642&ref_=nav_cs_video_games', 'https://www.amazon.com/product-reviews/B08R6S1M1K/ref=zg_bs_electronics_cr_15/134-5251365-4073444?pd_rd_i=B08R6S1M1K', 'https://www.amazon.com/fire-tv-stick-4k-max-with-alexa-voice-remote/dp/B08MQZXN1X/ref=zg_bs_electronics_8/134-5251365-4073444?pd_rd_i=B08MQZXN1X&psc=1', 'https://www.amazon.com/gp/history?ref_=nav_AccountFlyout_browsinghistory', 'https://www.amazon.com/dp/B07984JN3L?plattr=ACOMFO&ie=UTF-8', 'https://www.amazon.com/Blocking-Glasses-Computer-Reading-Eyestrain/dp/B07W781XWF/ref=zg_bs_electronics_16/134-5251365-4073444?pd_rd_i=B09N7LVXLH&psc=1', 'https://www.amazon.com/business?ref_=footer_retail_b2b', 'https://www.amazon.com/books-used-books-textbooks/b/?ie=UTF8&node=283155&ref_=nav_cs_books', 'https://www.amazon.com/gp/subscribe-and-save/manager/viewsubscriptions?ref_=nav_AccountFlyout_sns', 'https://www.amazon.com/Wearable-Technology/b/?ie=UTF8&node=10048700011&ref_=sv_e_7', 'https://www.amazon.com/Charger-Protector-QINLIANF-Extender-Charging/dp/B08R6S1M1K/ref=zg_bs_electronics_15/134-5251365-4073444?pd_rd_i=B08R6S1M1K&psc=1', 'https://www.amazon.com/Best-Sellers-Electronics-Portable-Audio-Video/zgbs/electronics/172623/ref=zg_bs_nav_electronics_1', 'https://www.amazon.com/ATTCL-Computer-Blocking-Glasses-5101/dp/B082XVXCTQ/ref=zg_bs_electronics_23/134-5251365-4073444?pd_rd_i=B0857F99L3&psc=1', 'https://www.amazon.com/gp/browse.html?node=14498690011&ref_=amzn_nav_ftr_swa', 'https://www.amazon.com/prime?ref_=nav_cs_primelink_nonmember', 'https://www.amazon.com/gp/help/customer/display.html?nodeId=468520&ref_=footer_shiprates', 'https://www.amazon.com/registries?ref_=nav_ListFlyout_find', 'https://www.amazon.com/gp/css/order-history?ref_=nav_AccountFlyout_orders', 'https://www.amazon.com/Deals-Electronics/b/?ie=UTF8&node=540734&ref_=sv_e_1', 'https://www.amazon.com/Best-Sellers-Electronics-Video-Game-Consoles-Accessories/zgbs/electronics/7926841011/ref=zg_bs_nav_electronics_1', 'https://www.amazon.com/product-reviews/B09BNBMT8Y/ref=zg_bs_electronics_cr_19/134-5251365-4073444?pd_rd_i=B09BNBMT8Y', 'https://www.amazon.com/electronics-store/b/?ie=UTF8&node=172282&ref_=topnav_storetab_e', 'https://www.amazon.com/product-reviews/B08C1W5N87/ref=zg_bs_electronics_cr_1/134-5251365-4073444?pd_rd_i=B08C1W5N87', 'https://www.amazon.com/computer-pc-hardware-accessories-add-ons/b/?ie=UTF8&node=541966&ref_=nav_cs_pc', 'https://www.amazon.com/gp/css/returns/homepage.html?ref_=footer_hy_f_4', 'https://www.amazon.com/gp/customer-preferences/select-language/ref=topnav_lang?ie=UTF8&preferencesReturnUrl=%2FBest-Sellers-Electronics%2Fzgbs%2Felectronics%2F', 'https://www.amazon.com/stores/node/20648519011?channel=discovbar?field-lbr_brands_browse-bin=AmazonBasics&ref_=nav_cs_amazonbasics', 'https://www.amazon.com/Best-Sellers-Electronics-Computers-Electronics-Service-Plans/zgbs/electronics/16285901/ref=zg_bs_nav_electronics_1', 'https://www.amazon.com/gp/browse.html?node=2102313011&ref_=footer_devices', 'https://www.amazon.com/gp/help/customer/display.html?nodeId=508088&ref_=footer_cou', 'https://www.amazon.com/FosPower-Emergency-Portable-Household-Flashlight/dp/B07FKYHTWP/ref=zg_bs_electronics_20/134-5251365-4073444?pd_rd_i=B07FKYHTWP&psc=1', 'https://www.amazon.com/gp/bestsellers/?ref_=nav_cs_bestsellers', 'https://www.amazon.com/Best-Sellers-Electronics-Cell-Phones-Accessories/zgbs/electronics/2811119011/ref=zg_bs_nav_electronics_1', 'https://www.amazon.com/gp/browse.html?node=388305011&ref_=footer_tfx', 'https://www.amazon.com/Camera-Photo-Film-Canon-Sony/b/?ie=UTF8&node=502394&ref_=sv_e_6', 'https://www.amazon.com/Roku-Express-Streaming-Wireless-Controls/dp/B0916TKFF2/ref=zg_bs_electronics_5/134-5251365-4073444?pd_rd_i=B0916TKFF2&psc=1', 'https://www.amazon.com/home-garden-kitchen-furniture-bedding/b/?ie=UTF8&node=1055398&ref_=nav_cs_home', 'https://www.amazon.com/hz/mycd/myx?ref_=footer_myk', 'https://www.amazon.com/product-reviews/B0932QJ2JZ/ref=zg_bs_electronics_cr_12/134-5251365-4073444?pd_rd_i=B0932QJ2JZ', 'https://www.amazon.com/ATTCL-Computer-Blocking-Glasses-5103/dp/B087JSWST7/ref=zg_bs_electronics_22/134-5251365-4073444?pd_rd_i=B087JJMCBQ&psc=1', 'https://www.amazon.com/Surge-Protector-Power-Strip-Extension/dp/B092J8LPWR/ref=zg_bs_electronics_27/134-5251365-4073444?pd_rd_i=B092J8LPWR&psc=1', 'https://www.amazon.com/gp/css/order-history?ref_=nav_orders_first', 'https://www.amazon.com/Tools-and-Home-Improvement/b/?ie=UTF8&node=228013&ref_=nav_cs_hi', 'https://www.amazon.com/Coupons/b/?_encoding=UTF8&node=2231352011&ref_=nav_cs_coupons', 'https://www.amazon.com/gp/gc/balance?ref_=nav_item_yourgcbalance', 'https://www.amazon.com/Best-Sellers/zgbs/ref=zg_bs_unv_electronics_0_1', 'https://www.amazon.com/product-reviews/B00BWF5U0M/ref=zg_bs_electronics_cr_28/134-5251365-4073444?pd_rd_i=B00BWF5U0M', 'https://www.amazon.com/Office-Electronics/b/?ie=UTF8&node=172574&ref_=sv_e_11', 'https://www.amazon.com/Sceptre-E248W-19203R-Monitor-Speakers-Metallic/dp/B0773ZY26F/ref=zg_bs_electronics_18/134-5251365-4073444?pd_rd_i=B0773ZY26F&psc=1', 'https://www.amazon.com/ref=nav_logo', 'https://www.amazon.com/Beauty-Makeup-Skin-Hair-Products/b/?ie=UTF8&node=3760911&ref_=nav_cs_beauty', 'https://www.amazon.com/alm/storefront?almBrandId=QW1hem9uIEZyZXNo&ref_=footer_aff_fresh', 'https://www.amazon.com/Roku-Streaming-Device-Vision-Controls/dp/B09BKCDXZC/ref=zg_bs_electronics_24/134-5251365-4073444?pd_rd_i=B09BKCDXZC&psc=1', 'https://www.amazon.com/Car-Electronics/b/?ie=UTF8&node=1077068&ref_=sv_e_8', 'https://www.amazon.com/?ref_=footer_logo', 'https://www.amazon.com/Home-Audio-Electronics/b/?ie=UTF8&node=667846011&ref_=sv_e_4', 'https://www.amazon.com/product-reviews/B08PC872RL/ref=zg_bs_electronics_cr_29/134-5251365-4073444?pd_rd_i=B08PC872RL', 'https://www.amazon.com/gift-cards/b/?ie=UTF8&node=2238192011&ref_=nav_cs_gc', 'https://www.amazon.com/Protector-Nuetsa-Extension-Outlets-Joules/dp/B09F2XPJ47/ref=zg_bs_electronics_13/134-5251365-4073444?pd_rd_i=B09F2XPJ47&psc=1', 'https://www.amazon.com/gp/subs/primeclub/account/homepage.html?ref_=nav_AccountFlyout_prime', 'https://www.amazon.com/product-reviews/B0916TKFF2/ref=zg_bs_electronics_cr_5/134-5251365-4073444?pd_rd_i=B0916TKFF2', 'https://www.amazon.com/fire-tv-stick-lite-latest-alexa-voice-remote-lite/dp/B091G4YP57/ref=zg_bs_electronics_21/134-5251365-4073444?pd_rd_i=B091G4YP57&psc=1', 'https://www.amazon.com/product-reviews/B09N7LVXLH/ref=zg_bs_electronics_cr_16/134-5251365-4073444?pd_rd_i=B09N7LVXLH', 'https://www.amazon.com/Tcstei-Protector-Outlets-Extension-Essentials/dp/B08PC872RL/ref=zg_bs_electronics_29/134-5251365-4073444?pd_rd_i=B08PC872RL&psc=1', 'https://www.amazon.com/automotive-auto-truck-replacements-parts/b/?ie=UTF8&node=15684181&ref_=nav_cs_automotive', 'https://www.amazon.com/product-reviews/B09F2XPJ47/ref=zg_bs_electronics_cr_13/134-5251365-4073444?pd_rd_i=B09F2XPJ47', 'https://www.amazon.com/gp/browse.html?node=16115931011&ref_=nav_cs_registry', 'https://www.amazon.com/gp/bestsellers/electronics/?ie=UTF8&ref_=sv_e_2', 'https://www.amazon.com/b/?node=12766669011&ld=AZUSSOA-yaflyout&ref_=nav_AccountFlyout_cs_sell', 'https://www.amazon.com/product-reviews/B0933BVK6T/ref=zg_bs_electronics_cr_11/134-5251365-4073444?pd_rd_i=B0933BVK6T', 'https://www.amazon.com/gp/BIT/ref=footer_bit_v2_us_A0029?bitCampaignCode=A0029', 'https://www.amazon.com/Roku-Express-Streaming-Media-Player/dp/B07WVFCVJN/ref=zg_bs_electronics_10/134-5251365-4073444?pd_rd_i=B07WVFCVJN&psc=1', 'https://www.amazon.com/Best-Sellers-Electronics-Office-Electronics-Products/zgbs/electronics/172574/ref=zg_bs_nav_electronics_1', 'https://www.amazon.com/gp/clpf?ref_=nav_ListFlyout_smi_se_ya_lll_ll', 'https://www.amazon.com/Spotlight-Security-Weatherproof-Compatible-Assistant/dp/B095NWYQBC/ref=zg_bs_electronics_6/134-5251365-4073444?pd_rd_i=B09PGZQLY9&psc=1', 'https://www.amazon.com/music/unlimited?ref_=nav_cs_music', 'https://www.amazon.com/gp/movers-and-shakers/electronics/ref=zg_bs_tab_t_bsms', 'https://www.amazon.com/Certified-Refurbished-Fire-TV-Stick-Light/dp/B085PL3BJ1/ref=zg_bs_electronics_25/134-5251365-4073444?pd_rd_i=B085PL3BJ1&psc=1', 'https://www.amazon.com/gp/yourstore/pym/ref=pd_pyml_rhf', 'https://www.amazon.com/tv-video/b/?ie=UTF8&node=1266092011&ref_=nav_cs_tv', 'https://www.amazon.com/Best-Sellers-Electronics-Camera-Photo-Products/zgbs/electronics/502394/ref=zg_bs_nav_electronics_1', 'https://www.amazon.com/gp/browse.html?node=3561432011&ref_=footer_ccmp', 'https://www.amazon.com/iss/credit/rewardscardmember?plattr=CBFOOT&ref_=footer_cbcc', 'https://www.amazon.com/hz/wishlist/ls?triggerElementID=createList&ref_=nav_ListFlyout_navFlyout_createList_lv_redirect', 'https://www.amazon.com/Best-Sellers-Electronics-Computers-Accessories/zgbs/electronics/541966/ref=zg_bs_nav_electronics_1', 'https://www.amazon.com/product-reviews/B085PL3BJ1/ref=zg_bs_electronics_cr_25/134-5251365-4073444?pd_rd_i=B085PL3BJ1', 'https://www.amazon.com/b/?_encoding=UTF8&ie=UTF8&node=18096056011&ref_=nav_swm_US_BHM22_GW_Desk_SWM_SmBiz&pf_rd_p=ca7196ac-90b9-498e-af55-a0b2096f0ac8&pf_rd_s=nav-sitewide-msg-text&pf_rd_t=4201&pf_rd_i=navbar-4201&pf_rd_m=ATVPDKIKX0DER&pf_rd_r=C9HX8A2TFF6BJSE6TZAX', 'https://www.amazon.com/b/?node=17867753011&ref_=nav_cs_shoppertoolkit', 'https://www.amazon.com/cell-phones-service-plans-accessories/b/?ie=UTF8&node=2335752011&ref_=sv_e_10', 'https://www.amazon.com/Echo-Dot/dp/B07FZ8S74R/ref=zg_bs_electronics_3/134-5251365-4073444?pd_rd_i=B07FZ8S74R&psc=1', 'https://www.amazon.com/services?ref_=footer_services', 'https://www.amazon.com/b/?ie=UTF8&node=15391321011&ref_=sv_e_13', 'https://www.amazon.com/b/?_encoding=UTF8&ld=AZUSSOA-sell&node=12766669011&ref_=nav_cs_sell', 'https://www.amazon.com/deals?ref_=nav_cs_gb', 'https://www.amazon.com/product-reviews/B0857F99L3/ref=zg_bs_electronics_cr_23/134-5251365-4073444?pd_rd_i=B0857F99L3', 'https://www.amazon.com/product-reviews/B07KTYJ769/ref=zg_bs_electronics_cr_9/134-5251365-4073444?pd_rd_i=B07KTYJ769', 'https://www.amazon.com/product-reviews/B07FKYHTWP/ref=zg_bs_electronics_cr_20/134-5251365-4073444?pd_rd_i=B07FKYHTWP', 'https://www.amazon.com/interestbasedads/ref=footer_iba', 'https://www.amazon.com/Ferilinso-Designed-Protector-Tempered-Definition/dp/B09BNBMT8Y/ref=zg_bs_electronics_19/134-5251365-4073444?pd_rd_i=B09BNBMT8Y&psc=1', 'https://www.amazon.com/gp/new-releases/?ref_=nav_cs_newreleases', 'https://www.amazon.com/gp/help/customer/accessibility', 'https://www.amazon.com/product-reviews/B091G4YP57/ref=zg_bs_electronics_cr_21/134-5251365-4073444?pd_rd_i=B091G4YP57', 'https://www.amazon.com/Handmade/b/?ie=UTF8&node=11260432011&ref_=nav_cs_handmade', 'https://www.amazon.com/product-reviews/B07CCGBB7M/ref=zg_bs_electronics_cr_26/134-5251365-4073444?pd_rd_i=B07CCGBB7M', 'https://www.amazon.com/b/?ie=UTF8&node=2226766011&ref_=sv_e_14', 'https://www.amazon.com/product-reviews/B09PGZQLY9/ref=zg_bs_electronics_cr_6/134-5251365-4073444?pd_rd_i=B09PGZQLY9', 'https://www.amazon.com/all-new-Echo-Dot/dp/B07XJ8C8F5/ref=zg_bs_electronics_4/134-5251365-4073444?pd_rd_i=B07XJ8C8F5&psc=1', 'https://www.amazon.com/Fujifilm-INSTAX-Instant-Twin-Pack/dp/B00EB4ADQW/ref=zg_bs_electronics_14/134-5251365-4073444?pd_rd_i=B00EB4ADQW&psc=1', 'https://www.amazon.com/toys/b/?ie=UTF8&node=165793011&ref_=nav_cs_toys', 'https://www.amazon.com/product-reviews/B09DFGMQWJ/ref=zg_bs_electronics_cr_7/134-5251365-4073444?pd_rd_i=B09DFGMQWJ', 'https://www.amazon.com/gp/browse.html?node=230659011&ref_=footer_amazonglobal', 'https://www.amazon.com/product-reviews/B071FXZBMV/ref=zg_bs_electronics_cr_30/134-5251365-4073444?pd_rd_i=B071FXZBMV', 'https://www.amazon.com/Best-Sellers-Electronics-Televisions-Video-Products/zgbs/electronics/1266092011/ref=zg_bs_nav_electronics_1', 'https://www.amazon.com/Best-Sellers-Electronics-eBook-Readers-Accessories/zgbs/electronics/2642125011/ref=zg_bs_nav_electronics_1', 'https://www.amazon.com/b/?ie=UTF8&node=172630&ref_=sv_e_9', 'https://www.amazon.com/gp/browse.html?node=16218619011&ref_=footer_swp', 'https://www.amazon.com/product-reviews/B07XJ8C8F5/ref=zg_bs_electronics_cr_4/134-5251365-4073444?pd_rd_i=B07XJ8C8F5', 'https://www.amazon.com/Best-Sellers-Electronics-GPS-Finders-Accessories/zgbs/electronics/172526/ref=zg_bs_nav_electronics_1', 'https://www.amazon.com/Best-Sellers-Electronics/zgbs/electronics/ref=zg_bs_pg_2?_encoding=UTF8&pg=2', 'https://www.amazon.com/gp/kindle/ku/ku_central?ref_=nav_AccountFlyout_ku', 'https://www.amazon.com/hz/mycd/myx?pageType=content&ref_=nav_AccountFlyout_myk', 'https://www.amazon.com/product-reviews/B08XVYZ1Y5/ref=zg_bs_electronics_cr_2/134-5251365-4073444?pd_rd_i=B08XVYZ1Y5', 'https://www.amazon.com/all-new-fire-tv-stick-4k-with-alexa-voice-remote/dp/B08XVYZ1Y5/ref=zg_bs_electronics_2/134-5251365-4073444?pd_rd_i=B08XVYZ1Y5&psc=1', 'https://www.amazon.com/product-reviews/B07FZ8S74R/ref=zg_bs_electronics_cr_3/134-5251365-4073444?pd_rd_i=B07FZ8S74R', 'https://www.amazon.com/dp/B07CBJQS16?pr=ibprox&plattr=CCLFOOT&place=camp&ie=UTF-8&ref_=footer_ccl', 'https://www.amazon.com/gp/help/customer/display.html?nodeId=468496&ref_=footer_privacy', 'https://www.amazon.com/Amazon-smart-plug-works-with-Alexa/dp/B089DR29T6/ref=zg_bs_electronics_9/134-5251365-4073444?pd_rd_i=B07KTYJ769&psc=1', 'https://www.amazon.com/Best-Sellers-Electronics/zgbs/electronics/ref=zg_bs_pg_1?_encoding=UTF8&pg=1', 'https://www.amazon.com/gp/video/watchlist?ref_=nav_AccountFlyout_ywl', 'https://www.amazon.com/gp/browse.html?node=12653393011&ref_=footer_usrenew', 'https://www.amazon.com/health-personal-care-nutrition-fitness/b/?ie=UTF8&node=3760901&ref_=nav_cs_hpc', 'https://www.amazon.com/gp/product/B084KP3NG6?plattr=SCFOOT&ref_=footer_ACB', 'https://www.amazon.com/product-reviews/B07YNLBS7R/ref=zg_bs_electronics_cr_17/134-5251365-4073444?pd_rd_i=B07YNLBS7R', 'https://www.amazon.com/gp/help/customer/display.html?nodeId=508510&ref_=nav_cs_customerservice', 'https://www.amazon.com/computer-pc-hardware-accessories-add-ons/b/?ie=UTF8&node=541966&ref_=sv_e_5', 'https://www.amazon.com/product-reviews/B087JJMCBQ/ref=zg_bs_electronics_cr_22/134-5251365-4073444?pd_rd_i=B087JJMCBQ', 'https://www.amazon.com/Protector-POWRUI-6-Outlet-Extender-Charging/dp/B07CCGBB7M/ref=zg_bs_electronics_26/134-5251365-4073444?pd_rd_i=B07CCGBB7M&psc=1', 'https://www.amazon.com/b/?node=18190131011&ld=AZUSSOA-seemore&ref_=footer_seemore', 'https://www.amazon.com/gp/yourstore?ref_=nav_AccountFlyout_recs', 'https://www.amazon.com/product-reviews/B09BKCDXZC/ref=zg_bs_electronics_cr_24/134-5251365-4073444?pd_rd_i=B09BKCDXZC', 'https://www.amazon.com/fire-tv-stick-lite/dp/B07YNLBS7R/ref=zg_bs_electronics_17/134-5251365-4073444?pd_rd_i=B07YNLBS7R&psc=1', 'https://www.amazon.com/luxurystores?ref_=nav_cs_luxury', 'https://www.amazon.com/gp/help/customer/display.html?nodeId=GDFU3JS5AL6SYHRD&ref_=footer_covid', 'https://www.amazon.com/hz5/yourmembershipsandsubscriptions?ref_=nav_AccountFlyout_digital_subscriptions', 'https://www.amazon.com/product-reviews/B00EB4ADQW/ref=zg_bs_electronics_cr_14/134-5251365-4073444?pd_rd_i=B00EB4ADQW', 'https://www.amazon.com/gp/most-gifted/electronics/ref=zg_bs_tab_t_mg', 'https://www.amazon.com/gp/browse.html?node=13234696011&ref_=_gno_p_foot', 'https://www.amazon.com/gp/seller-account/mm-summary-page.html?ld=AZFooterSelfPublish&topic=200260520&ref_=footer_publishing', 'https://www.amazon.com/Introducing-Blink-Doorbell-Two-way-enabled/dp/B08SGC46M9/ref=zg_bs_electronics_7/134-5251365-4073444?pd_rd_i=B09DFGMQWJ&psc=1', 'https://www.amazon.com/Sabrent-4-Port-Individual-Switches-HB-UMLS/dp/B00BWF5U0M/ref=zg_bs_electronics_28/134-5251365-4073444?pd_rd_i=B00BWF5U0M&psc=1', 'https://www.amazon.com/product-reviews/B092J8LPWR/ref=zg_bs_electronics_cr_27/134-5251365-4073444?pd_rd_i=B092J8LPWR', 'https://www.amazon.com/fire-tv-stick-with-3rd-gen-alexa-voice-remote/dp/B08C1W5N87/ref=zg_bs_electronics_1/134-5251365-4073444?pd_rd_i=B08C1W5N87&psc=1', 'https://www.amazon.com/product-reviews/B07WVFCVJN/ref=zg_bs_electronics_cr_10/134-5251365-4073444?pd_rd_i=B07WVFCVJN', 'https://www.amazon.com/OHill-Organizer-Management-Organizing-Adhesive/dp/B071FXZBMV/ref=zg_bs_electronics_30/134-5251365-4073444?pd_rd_i=B071FXZBMV&psc=1', 'https://www.amazon.com/Best-Sellers-Electronics-Wearable-Technology/zgbs/electronics/10048700011/ref=zg_bs_nav_electronics_1', 'https://www.amazon.com/customer-preferences/country?ie=UTF8&preferencesReturnUrl=%2FBest-Sellers-Electronics%2Fzgbs%2Felectronics%2F&ref_=footer_icp_cp', 'https://www.amazon.com/gp/browse.html?node=15547130011&ref_=_us_footer_drive', 'https://www.amazon.com/gp/new-releases/electronics/ref=zg_bs_tab_t_bsnr', 'https://www.amazon.com/gp/cart/view.html?ref_=nav_cart', 'https://www.amazon.com/pet-shops-dogs-cats-hamsters-kittens/b/?ie=UTF8&node=2619533011&ref_=nav_cs_pets']\n"
     ]
    }
   ],
   "source": [
    "page_links = [f\"https://www.amazon.com{x}\" for x in new_links]\n",
    "print(page_links)"
   ]
  },
  {
   "cell_type": "code",
   "execution_count": 26,
   "id": "279e8c9e",
   "metadata": {},
   "outputs": [],
   "source": [
    "def scrape_product_page(url, title_lookup = \"#productTitle\",\n",
    "price_lookup = \"#corePrice_desktop > div > table > tbody > tr:nth-child(2) > td.a-span12 > span.a-price.a-text-price.a-size-medium.apexPriceToPay > span.a-offscreen\"):\n",
    "    driver.get(url)\n",
    "    time.sleep(1.2)\n",
    "    body_el = driver.find_element(By.CSS_SELECTOR, 'body')\n",
    "    html_str = body_el.get_attribute('innerHTML')\n",
    "    html_obj = HTML(html=html_str)\n",
    "    product_title = html_obj.find(title_lookup, first=True).text\n",
    "    product_price = html_obj.find(price_lookup, first=True).text\n",
    "    return product_title, product_price"
   ]
  },
  {
   "cell_type": "code",
   "execution_count": 27,
   "id": "6a727fa6",
   "metadata": {},
   "outputs": [
    {
     "data": {
      "text/plain": [
       "'https://www.amazon.com/Apple-MX532AM-A-AirTag/dp/B0933BVK6T/ref=zg_bs_electronics_11/134-5251365-4073444?pd_rd_i=B0933BVK6T&psc=1'"
      ]
     },
     "execution_count": 27,
     "metadata": {},
     "output_type": "execute_result"
    }
   ],
   "source": [
    "first_product_link = page_links[0]\n",
    "first_product_link"
   ]
  },
  {
   "cell_type": "code",
   "execution_count": 31,
   "id": "02f3dc56",
   "metadata": {},
   "outputs": [
    {
     "name": "stdout",
     "output_type": "stream",
     "text": [
      "https://www.amazon.com/Charger-Protector-QINLIANF-Extender-Charging/dp/B08R6S1M1K/ref=zg_bs_electronics_15/134-5251365-4073444?pd_rd_i=B08R6S1M1K&psc=1 USB Wall Charger, Surge Protector, QINLIANF 5 Outlet Extender with 4 USB Charging Ports ( 4.8A Total) 3-Sided 1680J Power Strip Multi Plug Outlets Wall Adapter Spaced for Home Travel Office (3U1C) $14.39\n",
      "https://www.amazon.com/ATTCL-Computer-Blocking-Glasses-5101/dp/B082XVXCTQ/ref=zg_bs_electronics_23/134-5251365-4073444?pd_rd_i=B0857F99L3&psc=1 ATTCL Kids Blue Light Blocking Glasses for Boys Girls Age 3-10, Computer Gaming Fake Eyeglasses Anti Eyestrain $10.48\n",
      "https://www.amazon.com/FosPower-Emergency-Portable-Household-Flashlight/dp/B07FKYHTWP/ref=zg_bs_electronics_20/134-5251365-4073444?pd_rd_i=B07FKYHTWP&psc=1 FosPower 2000mAh NOAA Emergency Weather Radio (Model A1) Portable Power Bank with Solar Charging, Hand Crank & Battery Operated, SOS Alarm, AM/FM & LED Flashlight for Outdoor Emergency $25.49\n",
      "https://www.amazon.com/Roku-Express-Streaming-Wireless-Controls/dp/B0916TKFF2/ref=zg_bs_electronics_5/134-5251365-4073444?pd_rd_i=B0916TKFF2&psc=1 Roku Express 4K+ 2021 | Streaming Media Player HD/4K/HDR with Smooth Wireless Streaming and Roku Voice Remote with TV Controls, Includes Premium HDMI® Cable $29.00\n",
      "https://www.amazon.com/ATTCL-Computer-Blocking-Glasses-5103/dp/B087JSWST7/ref=zg_bs_electronics_22/134-5251365-4073444?pd_rd_i=B087JJMCBQ&psc=1 ATTCL Computer Blue Light Blocking Glasses for kids Age 3-10 Game Glasses 5103 $10.48\n",
      "https://www.amazon.com/Protector-Nuetsa-Extension-Outlets-Joules/dp/B09F2XPJ47/ref=zg_bs_electronics_13/134-5251365-4073444?pd_rd_i=B09F2XPJ47&psc=1 Surge Protector Power Strip , Nuetsa Extension Cord with 8 Outlets and 4 USB Ports, 6 Feet Power Cord (1625W/13A) , 2700 Joules, ETL Listed, Black $15.27\n",
      "https://www.amazon.com/Tcstei-Protector-Outlets-Extension-Essentials/dp/B08PC872RL/ref=zg_bs_electronics_29/134-5251365-4073444?pd_rd_i=B08PC872RL&psc=1 Power Strip , Tcstei Surge Protector with 12 Outlets and 4 USB Ports, 6 Feet Extension Cord (1875W/15A) for for Home, Office, Dorm Essentials, 2700 Joules, ETL Listed, (Black) $17.80\n",
      "https://www.amazon.com/Spotlight-Security-Weatherproof-Compatible-Assistant/dp/B095NWYQBC/ref=zg_bs_electronics_6/134-5251365-4073444?pd_rd_i=B09PGZQLY9&psc=1 Wyze Cam Spotlight, Wyze Cam v3 Security Camera with Spotlight Kit, 1080p HD Security Camera with Two-Way Audio and Siren, IP65 Weatherproof, Compatible with Alexa and Google Assistant $49.96\n",
      "https://www.amazon.com/Certified-Refurbished-Fire-TV-Stick-Light/dp/B085PL3BJ1/ref=zg_bs_electronics_25/134-5251365-4073444?pd_rd_i=B085PL3BJ1&psc=1 Certified Refurbished Fire TV Stick Lite with Alexa Voice Remote Lite (no TV controls) | HD streaming device | 2020 release $19.99\n",
      "https://www.amazon.com/Ferilinso-Designed-Protector-Tempered-Definition/dp/B09BNBMT8Y/ref=zg_bs_electronics_19/134-5251365-4073444?pd_rd_i=B09BNBMT8Y&psc=1 Ferilinso Designed for iPhone 13 Pro Max Camera Lens Protector, Designed for iPhone 13 Pro Camera Lens Protector, 3 Pack 9H Tempered Glass, Night Shooting Mode, Case Friendly, High Definition $6.70\n",
      "https://www.amazon.com/Fujifilm-INSTAX-Instant-Twin-Pack/dp/B00EB4ADQW/ref=zg_bs_electronics_14/134-5251365-4073444?pd_rd_i=B00EB4ADQW&psc=1 Fujifilm Instax Mini Instant Film Twin Pack (White) $12.99\n",
      "https://www.amazon.com/Protector-POWRUI-6-Outlet-Extender-Charging/dp/B07CCGBB7M/ref=zg_bs_electronics_26/134-5251365-4073444?pd_rd_i=B07CCGBB7M&psc=1 USB Wall Charger, Surge Protector, POWRUI 6-Outlet Extender with 2 USB Charging Ports (2.4A Total) and Night Light, 3-Sided Power Strip with Adapter Spaced Outlets - White，ETL Listed $16.97\n",
      "https://www.amazon.com/Sabrent-4-Port-Individual-Switches-HB-UMLS/dp/B00BWF5U0M/ref=zg_bs_electronics_28/134-5251365-4073444?pd_rd_i=B00BWF5U0M&psc=1 Sabrent 4-Port USB 2.0 Data Hub with Individual LED lit Power Switches [Charging NOT Supported] for Mac & PC (HB-UMLS) $8.99\n"
     ]
    }
   ],
   "source": [
    "for link in page_links:\n",
    "    title, price = (None, None)\n",
    "    try:\n",
    "        title, price = scrape_product_page(link)\n",
    "    except:\n",
    "        pass\n",
    "    if title != None and price != None:\n",
    "        print(link, title, price)"
   ]
  },
  {
   "cell_type": "code",
   "execution_count": null,
   "id": "9d812d26",
   "metadata": {},
   "outputs": [],
   "source": []
  }
 ],
 "metadata": {
  "kernelspec": {
   "display_name": "Python 3 (ipykernel)",
   "language": "python",
   "name": "python3"
  },
  "language_info": {
   "codemirror_mode": {
    "name": "ipython",
    "version": 3
   },
   "file_extension": ".py",
   "mimetype": "text/x-python",
   "name": "python",
   "nbconvert_exporter": "python",
   "pygments_lexer": "ipython3",
   "version": "3.8.3"
  }
 },
 "nbformat": 4,
 "nbformat_minor": 5
}
