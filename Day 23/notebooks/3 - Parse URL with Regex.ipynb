{
 "cells": [
  {
   "cell_type": "markdown",
   "id": "6b8f34eb",
   "metadata": {},
   "source": [
    "# Parsing URLs with Regular Expressions\n",
    "The goal of this notebook is to parse urls from Amazon's Best Sellers - Electronics list and extract product ids from them. "
   ]
  },
  {
   "cell_type": "code",
   "execution_count": 35,
   "id": "71fca0b0",
   "metadata": {},
   "outputs": [],
   "source": [
    "# importing important libraries\n",
    "import requests\n",
    "from requests_html import HTML\n",
    "import time\n",
    "from selenium import webdriver\n",
    "from selenium.webdriver.chrome.options import Options\n",
    "from selenium.webdriver.common.by import By\n",
    "import re"
   ]
  },
  {
   "cell_type": "code",
   "execution_count": 36,
   "id": "86abd802",
   "metadata": {},
   "outputs": [],
   "source": [
    "# this allows me to run selenium without opening a new chrome window \n",
    "options = Options()\n",
    "options.add_argument(\"--headless\")\n",
    "\n",
    "driver = webdriver.Chrome(options=options)"
   ]
  },
  {
   "cell_type": "code",
   "execution_count": 37,
   "id": "9b73e1f4",
   "metadata": {},
   "outputs": [],
   "source": [
    "# three links from Amazon's best sellers page\n",
    "categories = [\n",
    "    \"https://www.amazon.com/Best-Sellers-Electronics/zgbs/electronics/\",\n",
    "    \"https://www.amazon.com/Best-Sellers-Home-Kitchen/zgbs/home-garden/\",\n",
    "    \"https://www.amazon.com/Best-Sellers-Toys-Games/zgbs/toys-and-games/\"\n",
    "]"
   ]
  },
  {
   "cell_type": "code",
   "execution_count": 38,
   "id": "b0b011be",
   "metadata": {},
   "outputs": [],
   "source": [
    "# grabbed the electronics link from the list\n",
    "# to use in testing new functions\n",
    "first_url = categories[0]\n",
    "driver.get(first_url)"
   ]
  },
  {
   "cell_type": "code",
   "execution_count": 39,
   "id": "1634fcf9",
   "metadata": {},
   "outputs": [],
   "source": [
    "# grabs body of the page\n",
    "body_el = driver.find_element(By.CSS_SELECTOR, 'body')\n",
    "html_str = body_el.get_attribute('innerHTML')"
   ]
  },
  {
   "cell_type": "code",
   "execution_count": 40,
   "id": "9934e3f8",
   "metadata": {},
   "outputs": [],
   "source": [
    "html_obj = HTML(html=html_str)"
   ]
  },
  {
   "cell_type": "code",
   "execution_count": 41,
   "id": "182855a4",
   "metadata": {},
   "outputs": [],
   "source": [
    "# creates of list of links from the best sellers page\n",
    "new_links = [x for x in html_obj.links if x.startswith(\"/\")]\n",
    "# makes sure that the links are not product reviews\n",
    "# we are focusing on actual products\n",
    "new_links = [x for x in new_links if \"product-reviews/\" not in x]\n",
    "# takes the links and properly formats them as urls\n",
    "page_links = [f\"https://www.amazon.com{x}\" for x in new_links]"
   ]
  },
  {
   "cell_type": "code",
   "execution_count": 42,
   "id": "279e8c9e",
   "metadata": {},
   "outputs": [],
   "source": [
    "# pass in a link and it scrapes the page looking for the\n",
    "# product title and product proce\n",
    "def scrape_product_page(url, title_lookup = \"#productTitle\",\n",
    "price_lookup = \"#corePrice_desktop > div > table > tbody > tr:nth-child(2) > td.a-span12 > span.a-price.a-text-price.a-size-medium.apexPriceToPay > span.a-offscreen\"):\n",
    "    driver.get(url)\n",
    "    time.sleep(1.2)\n",
    "    body_el = driver.find_element(By.CSS_SELECTOR, 'body')\n",
    "    html_str = body_el.get_attribute('innerHTML')\n",
    "    html_obj = HTML(html=html_str)\n",
    "    product_title = html_obj.find(title_lookup, first=True).text\n",
    "    product_price = html_obj.find(price_lookup, first=True).text\n",
    "    return product_title, product_price"
   ]
  },
  {
   "cell_type": "code",
   "execution_count": 43,
   "id": "9d812d26",
   "metadata": {},
   "outputs": [],
   "source": [
    "# <base-url>/<slug>/dp/<product_id>/\n",
    "# this is an example of a product url\n",
    "# regular expressions help us more accurately define product\n",
    "# page links\n",
    "my_regex_pattern = r\"https://www.amazon.com/(?P<slug>[\\w-]+)/dp/(?P<product_id>[\\w-]+)/\"\n",
    "my_url = 'https://www.amazon.com/Charger-Protector-QINLIANF-Extender-Charging/dp/B08R6S1M1K/'"
   ]
  },
  {
   "cell_type": "code",
   "execution_count": 44,
   "id": "1edeed41",
   "metadata": {},
   "outputs": [],
   "source": [
    "# creates a regular expression object from a patter\n",
    "regex = re.compile(my_regex_pattern)"
   ]
  },
  {
   "cell_type": "code",
   "execution_count": 45,
   "id": "39fb1319",
   "metadata": {},
   "outputs": [
    {
     "data": {
      "text/plain": [
       "'B08R6S1M1K'"
      ]
     },
     "execution_count": 45,
     "metadata": {},
     "output_type": "execute_result"
    }
   ],
   "source": [
    "# contains match object if item matches pattern\n",
    "my_match = regex.match(my_url)\n",
    "my_match['product_id']"
   ]
  },
  {
   "cell_type": "code",
   "execution_count": 46,
   "id": "ddcf0912",
   "metadata": {},
   "outputs": [
    {
     "data": {
      "text/plain": [
       "'Charger-Protector-QINLIANF-Extender-Charging'"
      ]
     },
     "execution_count": 46,
     "metadata": {},
     "output_type": "execute_result"
    }
   ],
   "source": [
    "my_match['slug']"
   ]
  },
  {
   "cell_type": "code",
   "execution_count": 47,
   "id": "565faf27",
   "metadata": {},
   "outputs": [],
   "source": [
    "# different ways product page links can look\n",
    "regex_options = [\n",
    "    r\"https://www.amazon.com/gp/product/(?P<product_id>[\\w-]+)/\",\n",
    "    r\"https://www.amazon.com/dp/(?P<product_id>[\\w-]+)/\",\n",
    "    r\"https://www.amazon.com/(?P<slug>[\\w-]+)/dp/(?P<product_id>[\\w-]+)/\",\n",
    "]"
   ]
  },
  {
   "cell_type": "code",
   "execution_count": 48,
   "id": "c0c32b88",
   "metadata": {},
   "outputs": [],
   "source": [
    "# from the url i want to extract the product id\n",
    "# for future price tracking\n",
    "def extract_product_id_from_url(url):\n",
    "    product_id = None\n",
    "    for regex_str in regex_options:\n",
    "        regex = re.compile(my_regex_pattern)\n",
    "        match = regex.match(url)\n",
    "        if match != None:\n",
    "            try:\n",
    "                product_id = match['product_id']\n",
    "            except:\n",
    "                pass\n",
    "    return product_id"
   ]
  },
  {
   "cell_type": "code",
   "execution_count": 51,
   "id": "d5e8609c",
   "metadata": {},
   "outputs": [],
   "source": [
    "\n",
    "# page_links = [x for x in page_links if extract_product_id_from_url(x) != None]\n",
    "def clean_page_links(page_links=[]):\n",
    "    final_page_links = []\n",
    "    for url in page_links:\n",
    "        product_id = extract_product_id_from_url(url)\n",
    "        if product_id != None:\n",
    "            final_page_links.append({\"url\": url, \"product_id\": product_id})\n",
    "    return final_page_links\n",
    "cleaned_links = clean_page_links(page_links)"
   ]
  },
  {
   "cell_type": "code",
   "execution_count": 52,
   "id": "f77701f3",
   "metadata": {},
   "outputs": [
    {
     "data": {
      "text/plain": [
       "False"
      ]
     },
     "execution_count": 52,
     "metadata": {},
     "output_type": "execute_result"
    }
   ],
   "source": [
    "len(page_links) == len(cleaned_links)"
   ]
  },
  {
   "cell_type": "code",
   "execution_count": 54,
   "id": "35997896",
   "metadata": {},
   "outputs": [
    {
     "data": {
      "text/plain": [
       "155"
      ]
     },
     "execution_count": 54,
     "metadata": {},
     "output_type": "execute_result"
    }
   ],
   "source": [
    "len(page_links)"
   ]
  },
  {
   "cell_type": "code",
   "execution_count": 55,
   "id": "0b26d9db",
   "metadata": {},
   "outputs": [
    {
     "data": {
      "text/plain": [
       "30"
      ]
     },
     "execution_count": 55,
     "metadata": {},
     "output_type": "execute_result"
    }
   ],
   "source": [
    "len(cleaned_links)"
   ]
  },
  {
   "cell_type": "code",
   "execution_count": 56,
   "id": "c8a4e2de",
   "metadata": {},
   "outputs": [],
   "source": [
    "def perform_scrape(cleaned_items=[]):\n",
    "    data_extracted = []\n",
    "    for obj in cleaned_items:\n",
    "        link = obj['url']\n",
    "        product_id = obj['product_id']\n",
    "        title, price = (None, None)\n",
    "        try:\n",
    "            title, price = scrape_product_page(link)\n",
    "        except:\n",
    "            pass\n",
    "        if title != None and price != None:\n",
    "            print(link, title, price)\n",
    "        product_data = {\n",
    "            \"url\": link,\n",
    "            \"product_id\": product_id,\n",
    "            \"title\": title,\n",
    "            \"price\": price\n",
    "        }\n",
    "        data_extracted.append(product_data)\n",
    "    return data_extracted"
   ]
  },
  {
   "cell_type": "code",
   "execution_count": 57,
   "id": "1318aa9b",
   "metadata": {},
   "outputs": [
    {
     "name": "stdout",
     "output_type": "stream",
     "text": [
      "https://www.amazon.com/Fujifilm-INSTAX-Instant-Twin-Pack/dp/B00EB4ADQW/ref=zg_bs_electronics_14/142-9870449-9536740?pd_rd_i=B00EB4ADQW&psc=1 Fujifilm Instax Mini Instant Film Twin Pack (White) $12.99\n",
      "https://www.amazon.com/Ferilinso-Designed-Protector-Tempered-Definition/dp/B09BNBMT8Y/ref=zg_bs_electronics_19/142-9870449-9536740?pd_rd_i=B09BNBMT8Y&psc=1 Ferilinso Designed for iPhone 13 Pro Max Camera Lens Protector, Designed for iPhone 13 Pro Camera Lens Protector, 3 Pack 9H Tempered Glass, Night Shooting Mode, Case Friendly, High Definition $6.70\n",
      "https://www.amazon.com/Tcstei-Protector-Outlets-Extension-Essentials/dp/B08PC872RL/ref=zg_bs_electronics_26/142-9870449-9536740?pd_rd_i=B08PC872RL&psc=1 Power Strip , Tcstei Surge Protector with 12 Outlets and 4 USB Ports, 6 Feet Extension Cord (1875W/15A) for for Home, Office, Dorm Essentials, 2700 Joules, ETL Listed, (Black) $17.80\n",
      "https://www.amazon.com/Certified-Refurbished-Fire-TV-Stick-Light/dp/B085PL3BJ1/ref=zg_bs_electronics_22/142-9870449-9536740?pd_rd_i=B085PL3BJ1&psc=1 Certified Refurbished Fire TV Stick Lite with Alexa Voice Remote Lite (no TV controls) | HD streaming device | 2020 release $19.99\n",
      "https://www.amazon.com/Protector-POWRUI-6-Outlet-Extender-Charging/dp/B07CCGBB7M/ref=zg_bs_electronics_28/142-9870449-9536740?pd_rd_i=B07CCGBB7M&psc=1 USB Wall Charger, Surge Protector, POWRUI 6-Outlet Extender with 2 USB Charging Ports (2.4A Total) and Night Light, 3-Sided Power Strip with Adapter Spaced Outlets - White，ETL Listed $16.97\n",
      "https://www.amazon.com/FosPower-Emergency-Portable-Household-Flashlight/dp/B07FKYHTWP/ref=zg_bs_electronics_15/142-9870449-9536740?pd_rd_i=B07FKYHTWP&psc=1 FosPower 2000mAh NOAA Emergency Weather Radio (Model A1) Portable Power Bank with Solar Charging, Hand Crank & Battery Operated, SOS Alarm, AM/FM & LED Flashlight for Outdoor Emergency $25.49\n",
      "https://www.amazon.com/Sabrent-4-Port-Individual-Switches-HB-UMLS/dp/B00BWF5U0M/ref=zg_bs_electronics_27/142-9870449-9536740?pd_rd_i=B00BWF5U0M&psc=1 Sabrent 4-Port USB 2.0 Data Hub with Individual LED lit Power Switches [Charging NOT Supported] for Mac & PC (HB-UMLS) $8.99\n",
      "https://www.amazon.com/Spotlight-Security-Weatherproof-Compatible-Assistant/dp/B095NWYQBC/ref=zg_bs_electronics_6/142-9870449-9536740?pd_rd_i=B09PGZQLY9&psc=1 Wyze Cam Spotlight, Wyze Cam v3 Security Camera with Spotlight Kit, 1080p HD Security Camera with Two-Way Audio and Siren, IP65 Weatherproof, Compatible with Alexa and Google Assistant $49.96\n",
      "https://www.amazon.com/Protector-Nuetsa-Extension-Outlets-Joules/dp/B09F2XPJ47/ref=zg_bs_electronics_16/142-9870449-9536740?pd_rd_i=B09F2XPJ47&psc=1 Surge Protector Power Strip , Nuetsa Extension Cord with 8 Outlets and 4 USB Ports, 6 Feet Power Cord (1625W/13A) , 2700 Joules, ETL Listed, Black $15.27\n",
      "https://www.amazon.com/Charger-Protector-QINLIANF-Extender-Charging/dp/B08R6S1M1K/ref=zg_bs_electronics_12/142-9870449-9536740?pd_rd_i=B08R6S1M1K&psc=1 USB Wall Charger, Surge Protector, QINLIANF 5 Outlet Extender with 4 USB Charging Ports ( 4.8A Total) 3-Sided 1680J Power Strip Multi Plug Outlets Wall Adapter Spaced for Home Travel Office (3U1C) $14.39\n"
     ]
    }
   ],
   "source": [
    "extracted_data = perform_scrape(cleaned_items=cleaned_links)"
   ]
  },
  {
   "cell_type": "code",
   "execution_count": null,
   "id": "1aadb36a",
   "metadata": {},
   "outputs": [],
   "source": [
    "&26 "
   ]
  }
 ],
 "metadata": {
  "kernelspec": {
   "display_name": "Python 3 (ipykernel)",
   "language": "python",
   "name": "python3"
  },
  "language_info": {
   "codemirror_mode": {
    "name": "ipython",
    "version": 3
   },
   "file_extension": ".py",
   "mimetype": "text/x-python",
   "name": "python",
   "nbconvert_exporter": "python",
   "pygments_lexer": "ipython3",
   "version": "3.8.3"
  }
 },
 "nbformat": 4,
 "nbformat_minor": 5
}
